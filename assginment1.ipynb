{
  "nbformat": 4,
  "nbformat_minor": 0,
  "metadata": {
    "colab": {
      "name": "assginment1.ipynb",
      "provenance": [],
      "collapsed_sections": [],
      "authorship_tag": "ABX9TyOXwFlTwTcqvHGbMpYNvAHz",
      "include_colab_link": true
    },
    "kernelspec": {
      "name": "python3",
      "display_name": "Python 3"
    },
    "language_info": {
      "name": "python"
    }
  },
  "cells": [
    {
      "cell_type": "markdown",
      "metadata": {
        "id": "view-in-github",
        "colab_type": "text"
      },
      "source": [
        "<a href=\"https://colab.research.google.com/github/linyubo/CE888code/blob/main/assginment1.ipynb\" target=\"_parent\"><img src=\"https://colab.research.google.com/assets/colab-badge.svg\" alt=\"Open In Colab\"/></a>"
      ]
    },
    {
      "cell_type": "markdown",
      "source": [
        "Download econml"
      ],
      "metadata": {
        "id": "WaNd8MrE74jd"
      }
    },
    {
      "cell_type": "code",
      "source": [
        "!pip install econml"
      ],
      "metadata": {
        "id": "G5R-uOYPZHsk",
        "colab": {
          "base_uri": "https://localhost:8080/"
        },
        "outputId": "8854a5d0-7fc0-4290-d65f-288548d2616f"
      },
      "execution_count": 1,
      "outputs": [
        {
          "output_type": "stream",
          "name": "stdout",
          "text": [
            "Collecting econml\n",
            "  Downloading econml-0.13.0-cp37-cp37m-manylinux_2_17_x86_64.manylinux2014_x86_64.whl (3.3 MB)\n",
            "\u001b[K     |████████████████████████████████| 3.3 MB 6.3 MB/s \n",
            "\u001b[?25hRequirement already satisfied: numpy in /usr/local/lib/python3.7/dist-packages (from econml) (1.21.5)\n",
            "Collecting dowhy<0.7\n",
            "  Downloading dowhy-0.6-py3-none-any.whl (123 kB)\n",
            "\u001b[K     |████████████████████████████████| 123 kB 54.0 MB/s \n",
            "\u001b[?25hRequirement already satisfied: joblib>=0.13.0 in /usr/local/lib/python3.7/dist-packages (from econml) (1.1.0)\n",
            "Collecting shap<0.40.0,>=0.38.1\n",
            "  Downloading shap-0.39.0.tar.gz (356 kB)\n",
            "\u001b[K     |████████████████████████████████| 356 kB 41.4 MB/s \n",
            "\u001b[?25hRequirement already satisfied: pandas in /usr/local/lib/python3.7/dist-packages (from econml) (1.3.5)\n",
            "Collecting sparse\n",
            "  Downloading sparse-0.13.0-py2.py3-none-any.whl (77 kB)\n",
            "\u001b[K     |████████████████████████████████| 77 kB 4.6 MB/s \n",
            "\u001b[?25hRequirement already satisfied: statsmodels>=0.10 in /usr/local/lib/python3.7/dist-packages (from econml) (0.10.2)\n",
            "Requirement already satisfied: lightgbm in /usr/local/lib/python3.7/dist-packages (from econml) (2.2.3)\n",
            "Requirement already satisfied: scikit-learn>0.22.0 in /usr/local/lib/python3.7/dist-packages (from econml) (1.0.2)\n",
            "Requirement already satisfied: scipy>1.4.0 in /usr/local/lib/python3.7/dist-packages (from econml) (1.4.1)\n",
            "Requirement already satisfied: networkx>=2.0 in /usr/local/lib/python3.7/dist-packages (from dowhy<0.7->econml) (2.6.3)\n",
            "Collecting pydot>=1.4\n",
            "  Downloading pydot-1.4.2-py2.py3-none-any.whl (21 kB)\n",
            "Requirement already satisfied: sympy>=1.4 in /usr/local/lib/python3.7/dist-packages (from dowhy<0.7->econml) (1.7.1)\n",
            "Requirement already satisfied: pytz>=2017.3 in /usr/local/lib/python3.7/dist-packages (from pandas->econml) (2018.9)\n",
            "Requirement already satisfied: python-dateutil>=2.7.3 in /usr/local/lib/python3.7/dist-packages (from pandas->econml) (2.8.2)\n",
            "Requirement already satisfied: pyparsing>=2.1.4 in /usr/local/lib/python3.7/dist-packages (from pydot>=1.4->dowhy<0.7->econml) (3.0.7)\n",
            "Requirement already satisfied: six>=1.5 in /usr/local/lib/python3.7/dist-packages (from python-dateutil>=2.7.3->pandas->econml) (1.15.0)\n",
            "Requirement already satisfied: threadpoolctl>=2.0.0 in /usr/local/lib/python3.7/dist-packages (from scikit-learn>0.22.0->econml) (3.1.0)\n",
            "Requirement already satisfied: tqdm>4.25.0 in /usr/local/lib/python3.7/dist-packages (from shap<0.40.0,>=0.38.1->econml) (4.62.3)\n",
            "Collecting slicer==0.0.7\n",
            "  Downloading slicer-0.0.7-py3-none-any.whl (14 kB)\n",
            "Requirement already satisfied: numba in /usr/local/lib/python3.7/dist-packages (from shap<0.40.0,>=0.38.1->econml) (0.51.2)\n",
            "Requirement already satisfied: cloudpickle in /usr/local/lib/python3.7/dist-packages (from shap<0.40.0,>=0.38.1->econml) (1.3.0)\n",
            "Requirement already satisfied: patsy>=0.4.0 in /usr/local/lib/python3.7/dist-packages (from statsmodels>=0.10->econml) (0.5.2)\n",
            "Requirement already satisfied: mpmath>=0.19 in /usr/local/lib/python3.7/dist-packages (from sympy>=1.4->dowhy<0.7->econml) (1.2.1)\n",
            "Requirement already satisfied: setuptools in /usr/local/lib/python3.7/dist-packages (from numba->shap<0.40.0,>=0.38.1->econml) (57.4.0)\n",
            "Requirement already satisfied: llvmlite<0.35,>=0.34.0.dev0 in /usr/local/lib/python3.7/dist-packages (from numba->shap<0.40.0,>=0.38.1->econml) (0.34.0)\n",
            "Building wheels for collected packages: shap\n",
            "  Building wheel for shap (setup.py) ... \u001b[?25l\u001b[?25hdone\n",
            "  Created wheel for shap: filename=shap-0.39.0-cp37-cp37m-linux_x86_64.whl size=491655 sha256=5955925440aa30087c09025d335a3006878fe364a209f8788832eeecb3235afc\n",
            "  Stored in directory: /root/.cache/pip/wheels/ca/25/8f/6ae5df62c32651cd719e972e738a8aaa4a87414c4d2b14c9c0\n",
            "Successfully built shap\n",
            "Installing collected packages: slicer, pydot, sparse, shap, dowhy, econml\n",
            "  Attempting uninstall: pydot\n",
            "    Found existing installation: pydot 1.3.0\n",
            "    Uninstalling pydot-1.3.0:\n",
            "      Successfully uninstalled pydot-1.3.0\n",
            "Successfully installed dowhy-0.6 econml-0.13.0 pydot-1.4.2 shap-0.39.0 slicer-0.0.7 sparse-0.13.0\n"
          ]
        }
      ]
    },
    {
      "cell_type": "markdown",
      "source": [
        "Import libaries"
      ],
      "metadata": {
        "id": "lQyhWtnw7_yy"
      }
    },
    {
      "cell_type": "code",
      "execution_count": 2,
      "metadata": {
        "id": "DQvdqXEFXvAR",
        "colab": {
          "base_uri": "https://localhost:8080/"
        },
        "outputId": "cfd8a22b-c2dc-4136-e85e-2e2662be4859"
      },
      "outputs": [
        {
          "output_type": "stream",
          "name": "stderr",
          "text": [
            "/usr/local/lib/python3.7/dist-packages/statsmodels/tools/_testing.py:19: FutureWarning: pandas.util.testing is deprecated. Use the functions in the public API at pandas.testing instead.\n",
            "  import pandas.util.testing as tm\n"
          ]
        }
      ],
      "source": [
        "from econml.metalearners import XLearner\n",
        "from sklearn.ensemble import RandomForestRegressor, RandomForestClassifier\n",
        "from sklearn.model_selection import train_test_split\n",
        "from sklearn.preprocessing import StandardScaler\n",
        "import numpy as np\n",
        "import pandas as pd\n",
        "import scipy.stats as st\n",
        "import matplotlib.pyplot as plt\n"
      ]
    },
    {
      "cell_type": "code",
      "source": [
        "!wget https://github.com/dmachlanski/CE888_2022/raw/main/project/data/ihdp.npz\n",
        "!wget https://github.com/dmachlanski/CE888_2022/raw/main/project/data/jobs.npz"
      ],
      "metadata": {
        "id": "bPjmwjRrZifW",
        "colab": {
          "base_uri": "https://localhost:8080/"
        },
        "outputId": "b6c80a0c-43df-4369-86ca-a9ea7b6301cc"
      },
      "execution_count": 3,
      "outputs": [
        {
          "output_type": "stream",
          "name": "stdout",
          "text": [
            "--2022-02-23 13:48:12--  https://github.com/dmachlanski/CE888_2022/raw/main/project/data/ihdp.npz\n",
            "Resolving github.com (github.com)... 52.69.186.44\n",
            "Connecting to github.com (github.com)|52.69.186.44|:443... connected.\n",
            "HTTP request sent, awaiting response... 302 Found\n",
            "Location: https://raw.githubusercontent.com/dmachlanski/CE888_2022/main/project/data/ihdp.npz [following]\n",
            "--2022-02-23 13:48:13--  https://raw.githubusercontent.com/dmachlanski/CE888_2022/main/project/data/ihdp.npz\n",
            "Resolving raw.githubusercontent.com (raw.githubusercontent.com)... 185.199.108.133, 185.199.109.133, 185.199.110.133, ...\n",
            "Connecting to raw.githubusercontent.com (raw.githubusercontent.com)|185.199.108.133|:443... connected.\n",
            "HTTP request sent, awaiting response... 200 OK\n",
            "Length: 174506 (170K) [application/octet-stream]\n",
            "Saving to: ‘ihdp.npz’\n",
            "\n",
            "ihdp.npz            100%[===================>] 170.42K  --.-KB/s    in 0.02s   \n",
            "\n",
            "2022-02-23 13:48:13 (6.86 MB/s) - ‘ihdp.npz’ saved [174506/174506]\n",
            "\n",
            "--2022-02-23 13:48:13--  https://github.com/dmachlanski/CE888_2022/raw/main/project/data/jobs.npz\n",
            "Resolving github.com (github.com)... 140.82.114.4\n",
            "Connecting to github.com (github.com)|140.82.114.4|:443... connected.\n",
            "HTTP request sent, awaiting response... 302 Found\n",
            "Location: https://raw.githubusercontent.com/dmachlanski/CE888_2022/main/project/data/jobs.npz [following]\n",
            "--2022-02-23 13:48:14--  https://raw.githubusercontent.com/dmachlanski/CE888_2022/main/project/data/jobs.npz\n",
            "Resolving raw.githubusercontent.com (raw.githubusercontent.com)... 185.199.108.133, 185.199.109.133, 185.199.110.133, ...\n",
            "Connecting to raw.githubusercontent.com (raw.githubusercontent.com)|185.199.108.133|:443... connected.\n",
            "HTTP request sent, awaiting response... 200 OK\n",
            "Length: 447426 (437K) [application/octet-stream]\n",
            "Saving to: ‘jobs.npz’\n",
            "\n",
            "jobs.npz            100%[===================>] 436.94K  --.-KB/s    in 0.04s   \n",
            "\n",
            "2022-02-23 13:48:14 (11.9 MB/s) - ‘jobs.npz’ saved [447426/447426]\n",
            "\n"
          ]
        }
      ]
    },
    {
      "cell_type": "markdown",
      "source": [
        "Load the data"
      ],
      "metadata": {
        "id": "1iE1QrJZorJM"
      }
    },
    {
      "cell_type": "code",
      "source": [
        "ihdp = np.load('ihdp.npz')\n",
        "jobs = np.load('jobs.npz')"
      ],
      "metadata": {
        "id": "OLDge1bWNTUw"
      },
      "execution_count": 4,
      "outputs": []
    },
    {
      "cell_type": "code",
      "source": [
        "ihdp.files"
      ],
      "metadata": {
        "id": "KXPXLamFGSFo",
        "colab": {
          "base_uri": "https://localhost:8080/"
        },
        "outputId": "3e4ab06d-eceb-472e-d9d7-3972bfd538c7"
      },
      "execution_count": 5,
      "outputs": [
        {
          "output_type": "execute_result",
          "data": {
            "text/plain": [
              "['x', 't', 'yf', 'ycf', 'ite']"
            ]
          },
          "metadata": {},
          "execution_count": 5
        }
      ]
    },
    {
      "cell_type": "code",
      "source": [
        "for f in ihdp.files:\n",
        "  print(f'{f}: {ihdp[f].shape}')"
      ],
      "metadata": {
        "id": "eX1eqmrrIdCm",
        "colab": {
          "base_uri": "https://localhost:8080/"
        },
        "outputId": "d72d920a-f559-4dac-967e-70bf889ebb0b"
      },
      "execution_count": 6,
      "outputs": [
        {
          "output_type": "stream",
          "name": "stdout",
          "text": [
            "x: (747, 25)\n",
            "t: (747, 1)\n",
            "yf: (747, 1)\n",
            "ycf: (747, 1)\n",
            "ite: (747, 1)\n"
          ]
        }
      ]
    },
    {
      "cell_type": "code",
      "source": [
        "ihdp['x']"
      ],
      "metadata": {
        "id": "RsVmVf8eIdyq",
        "colab": {
          "base_uri": "https://localhost:8080/"
        },
        "outputId": "71b8683e-ac6f-4133-9c94-a9ca9d98bb0d"
      },
      "execution_count": 7,
      "outputs": [
        {
          "output_type": "execute_result",
          "data": {
            "text/plain": [
              "array([[ 1.39739503,  0.99634625, -1.10562395, ...,  0.        ,\n",
              "         0.        ,  1.        ],\n",
              "       [ 0.26903265,  0.19681812,  0.38382797, ...,  0.        ,\n",
              "         0.        ,  0.        ],\n",
              "       [ 1.05153683,  1.79587438, -1.10562395, ...,  0.        ,\n",
              "         0.        ,  1.        ],\n",
              "       ...,\n",
              "       [-1.04522851, -1.33727611,  1.12855393, ...,  0.        ,\n",
              "         0.        ,  0.        ],\n",
              "       [-0.11573459, -0.60271001, -1.10562395, ...,  1.        ,\n",
              "         0.        ,  0.        ],\n",
              "       [ 1.41901117,  1.39611031, -0.73326097, ...,  0.        ,\n",
              "         0.        ,  1.        ]])"
            ]
          },
          "metadata": {},
          "execution_count": 7
        }
      ]
    },
    {
      "cell_type": "code",
      "source": [
        "ihdp['x'][0]"
      ],
      "metadata": {
        "colab": {
          "base_uri": "https://localhost:8080/"
        },
        "id": "4tFX9ZVA9wBD",
        "outputId": "3290f2d6-0b34-4bb0-bad3-40786c52aa82"
      },
      "execution_count": 8,
      "outputs": [
        {
          "output_type": "execute_result",
          "data": {
            "text/plain": [
              "array([ 1.39739503,  0.99634625, -1.10562395, -0.87960599,  0.30856884,\n",
              "       -1.02340239,  1.        ,  0.        ,  0.        ,  0.        ,\n",
              "        1.        ,  0.        ,  1.        ,  1.        ,  0.        ,\n",
              "        0.        ,  1.        ,  1.        ,  0.        ,  0.        ,\n",
              "        0.        ,  0.        ,  0.        ,  0.        ,  1.        ])"
            ]
          },
          "metadata": {},
          "execution_count": 8
        }
      ]
    },
    {
      "cell_type": "code",
      "source": [
        "jobs.files"
      ],
      "metadata": {
        "id": "KD-23DkBGkZ1",
        "colab": {
          "base_uri": "https://localhost:8080/"
        },
        "outputId": "09553564-ed59-4ffb-a6cf-fa6f343d9abd"
      },
      "execution_count": 9,
      "outputs": [
        {
          "output_type": "execute_result",
          "data": {
            "text/plain": [
              "['x', 't', 'y', 'e']"
            ]
          },
          "metadata": {},
          "execution_count": 9
        }
      ]
    },
    {
      "cell_type": "code",
      "source": [
        "for f in jobs.files:\n",
        "  print(f'{f}: {jobs[f].shape}')"
      ],
      "metadata": {
        "id": "T5vsctbqIjge",
        "colab": {
          "base_uri": "https://localhost:8080/"
        },
        "outputId": "f31c6418-f0a3-42e8-8886-e14657fc33b2"
      },
      "execution_count": 10,
      "outputs": [
        {
          "output_type": "stream",
          "name": "stdout",
          "text": [
            "x: (3212, 17)\n",
            "t: (3212, 1)\n",
            "y: (3212, 1)\n",
            "e: (3212, 1)\n"
          ]
        }
      ]
    },
    {
      "cell_type": "code",
      "source": [
        "for i in range(6):\n",
        "  print(np.mean(jobs['x'][:,i]))"
      ],
      "metadata": {
        "colab": {
          "base_uri": "https://localhost:8080/"
        },
        "id": "I5osDIIA-IO9",
        "outputId": "7b5a008b-a6d9-4d6c-bfe8-c032823f07c9"
      },
      "execution_count": 11,
      "outputs": [
        {
          "output_type": "stream",
          "name": "stdout",
          "text": [
            "2.013056941287955e-16\n",
            "-1.880327912192046e-16\n",
            "0.3742216687422167\n",
            "0.04887920298879203\n",
            "0.7079701120797012\n",
            "0.411892901618929\n"
          ]
        }
      ]
    },
    {
      "cell_type": "markdown",
      "source": [
        "preprocessing data"
      ],
      "metadata": {
        "id": "wI-wMI0pbRvt"
      }
    },
    {
      "cell_type": "code",
      "source": [
        "x_ihdp_flat = ihdp['x'].reshape(-1,1)\n",
        "x_ihdp = ihdp['x']\n",
        "t_ihdp = ihdp['t'].reshape(-1,1)\n",
        "yf_ihdp = ihdp['yf'].reshape(-1,1)\n",
        "ycf_ihdp = ihdp['ycf'].reshape(-1,1)\n",
        "ite_ihdp = ihdp['ite']"
      ],
      "metadata": {
        "id": "I-4GnDl-k-67"
      },
      "execution_count": 12,
      "outputs": []
    },
    {
      "cell_type": "code",
      "source": [
        "nan_idhp = np.isnan(ihdp['x'])\n",
        "nan_idhp.any()"
      ],
      "metadata": {
        "colab": {
          "base_uri": "https://localhost:8080/"
        },
        "id": "DTatD9YB_GCp",
        "outputId": "6ffdc582-2b82-4c8d-f8ba-b72840dc5230"
      },
      "execution_count": 13,
      "outputs": [
        {
          "output_type": "execute_result",
          "data": {
            "text/plain": [
              "False"
            ]
          },
          "metadata": {},
          "execution_count": 13
        }
      ]
    },
    {
      "cell_type": "code",
      "source": [
        "for i in range(6):\n",
        "  print(np.max(x_ihdp[:,i]))"
      ],
      "metadata": {
        "colab": {
          "base_uri": "https://localhost:8080/"
        },
        "id": "eq15DX6N0qc_",
        "outputId": "574be345-4e46-4034-a801-83b4db2f318c"
      },
      "execution_count": 14,
      "outputs": [
        {
          "output_type": "stream",
          "name": "stdout",
          "text": [
            "1.50547572167296\n",
            "2.59540250665916\n",
            "2.99036883104816\n",
            "2.24431955769879\n",
            "2.37163652074099\n",
            "2.9513718820876\n"
          ]
        }
      ]
    },
    {
      "cell_type": "code",
      "source": [
        "for i in range(6):\n",
        "  print(np.min(x_ihdp[:,i]))"
      ],
      "metadata": {
        "colab": {
          "base_uri": "https://localhost:8080/"
        },
        "id": "qGqZIXa617pO",
        "outputId": "2d0ef885-aa57-4bbc-a9ca-522401abfeea"
      },
      "execution_count": 15,
      "outputs": [
        {
          "output_type": "stream",
          "name": "stdout",
          "text": [
            "-2.7312872380599\n",
            "-3.80082251836664\n",
            "-1.85034990845987\n",
            "-0.879605988141577\n",
            "-5.13042776464339\n",
            "-1.85148036262872\n"
          ]
        }
      ]
    },
    {
      "cell_type": "code",
      "source": [
        "for i in range(6):\n",
        "  print(np.mean(x_ihdp[:,i]))"
      ],
      "metadata": {
        "colab": {
          "base_uri": "https://localhost:8080/"
        },
        "outputId": "01ea51cb-734e-4a7a-a4d2-bcc1dab43d7e",
        "id": "k7Im33oo6h2u"
      },
      "execution_count": 16,
      "outputs": [
        {
          "output_type": "stream",
          "name": "stdout",
          "text": [
            "3.4480822183806733e-17\n",
            "4.755975473628515e-18\n",
            "-2.3779877368142576e-17\n",
            "-5.612051058881648e-16\n",
            "4.042579152584238e-17\n",
            "-7.633340635173767e-16\n"
          ]
        }
      ]
    },
    {
      "cell_type": "code",
      "source": [
        "for i in range(6):\n",
        "  print(np.median(x_ihdp[:,i]))"
      ],
      "metadata": {
        "colab": {
          "base_uri": "https://localhost:8080/"
        },
        "outputId": "359df023-9783-4ec4-9520-c2140439f97c",
        "id": "e6rI9g3R6s8I"
      },
      "execution_count": 17,
      "outputs": [
        {
          "output_type": "stream",
          "name": "stdout",
          "text": [
            "0.165275193594202\n",
            "0.196818122274482\n",
            "-0.360897988611247\n",
            "0.161702527138546\n",
            "0.121017235125678\n",
            "-0.0297088215294272\n"
          ]
        }
      ]
    },
    {
      "cell_type": "code",
      "source": [
        "for i in range(6):\n",
        "  print(np.std(x_ihdp[:,i]))"
      ],
      "metadata": {
        "colab": {
          "base_uri": "https://localhost:8080/"
        },
        "outputId": "1c5cc5c9-f392-466d-8074-2c63ed3a5c53",
        "id": "N4smv0XM6324"
      },
      "execution_count": 18,
      "outputs": [
        {
          "output_type": "stream",
          "name": "stdout",
          "text": [
            "0.9993304317963723\n",
            "0.9993304317963723\n",
            "0.9993304317963725\n",
            "0.9993304317963722\n",
            "0.9993304317963723\n",
            "0.9993304317963719\n"
          ]
        }
      ]
    },
    {
      "cell_type": "code",
      "source": [
        "print(np.max(yf_ihdp))\n",
        "print(np.max(ycf_ihdp))\n",
        "print(np.max(ite_ihdp))"
      ],
      "metadata": {
        "colab": {
          "base_uri": "https://localhost:8080/"
        },
        "id": "JIjfkvbf2iDd",
        "outputId": "980799cb-0e82-475e-f1e0-5182e67ec106"
      },
      "execution_count": 19,
      "outputs": [
        {
          "output_type": "stream",
          "name": "stdout",
          "text": [
            "11.2682277695966\n",
            "10.17100383354\n",
            "4.6701246440039546\n"
          ]
        }
      ]
    },
    {
      "cell_type": "code",
      "source": [
        "print(np.min(yf_ihdp))\n",
        "print(np.min(ycf_ihdp))\n",
        "print(np.min(ite_ihdp))"
      ],
      "metadata": {
        "colab": {
          "base_uri": "https://localhost:8080/"
        },
        "id": "KL6wcbFx7E-k",
        "outputId": "795fa171-47ac-4eca-c391-361daa02893a"
      },
      "execution_count": 20,
      "outputs": [
        {
          "output_type": "stream",
          "name": "stdout",
          "text": [
            "-1.54390231866209\n",
            "-1.03762755274036\n",
            "-1.8669886040441002\n"
          ]
        }
      ]
    },
    {
      "cell_type": "code",
      "source": [
        "print(np.std(yf_ihdp))\n",
        "print(np.std(ycf_ihdp))\n",
        "print(np.std(ite_ihdp))"
      ],
      "metadata": {
        "id": "ei1MQyTX-r27",
        "colab": {
          "base_uri": "https://localhost:8080/"
        },
        "outputId": "26df0d32-bd2f-40d5-c986-6812e0ceb836"
      },
      "execution_count": 34,
      "outputs": [
        {
          "output_type": "stream",
          "name": "stdout",
          "text": [
            "2.1784964500546247\n",
            "1.978794798341327\n",
            "0.8591605233778311\n"
          ]
        }
      ]
    },
    {
      "cell_type": "code",
      "metadata": {
        "id": "72uhd6sQ-od7",
        "colab": {
          "base_uri": "https://localhost:8080/",
          "height": 267
        },
        "outputId": "0a9972f4-b0bd-4951-ef37-7807e1c66eb7"
      },
      "source": [
        "bins=100\n",
        "fig, axs = plt.subplots(1, 5, figsize=(16, 4))\n",
        "axs[0].hist(x_ihdp, bins=bins)\n",
        "axs[1].hist(t_ihdp, bins=bins)\n",
        "axs[2].hist(yf_ihdp, bins=bins)\n",
        "axs[3].hist(ycf_ihdp, bins=bins)\n",
        "axs[4].hist(ite_ihdp, bins=bins)\n",
        "plt.show()"
      ],
      "execution_count": 21,
      "outputs": [
        {
          "output_type": "display_data",
          "data": {
            "image/png": "[encoded data removed]",
            "text/plain": [
              "<Figure size 1152x288 with 5 Axes>"
            ]
          },
          "metadata": {
            "needs_background": "light"
          }
        }
      ]
    },
    {
      "cell_type": "code",
      "source": [
        "bins=100\n",
        "fig, axs = plt.subplots(1, 6, figsize=(20, 4))\n",
        "axs[0].hist(x_ihdp[:,0], bins=bins)\n",
        "axs[1].hist(x_ihdp[:,1], bins=bins)\n",
        "axs[2].hist(x_ihdp[:,2], bins=bins)\n",
        "axs[3].hist(x_ihdp[:,3], bins=bins)\n",
        "axs[4].hist(x_ihdp[:,4], bins=bins)\n",
        "axs[5].hist(x_ihdp[:,5], bins=bins)\n",
        "plt.show()"
      ],
      "metadata": {
        "colab": {
          "base_uri": "https://localhost:8080/",
          "height": 234
        },
        "outputId": "c66de78d-f7a4-4636-f6a7-e559036a5485",
        "id": "mP1OEgHU6wSo"
      },
      "execution_count": 22,
      "outputs": [
        {
          "output_type": "display_data",
          "data": {
            "image/png": "[encoded data removed]",
            "text/plain": [
              "<Figure size 1440x288 with 6 Axes>"
            ]
          },
          "metadata": {
            "needs_background": "light"
          }
        }
      ]
    },
    {
      "cell_type": "code",
      "source": [
        "bins=20\n",
        "fig, axs = plt.subplots(1, 4, figsize=(20, 4))\n",
        "axs[0].hist(x_ihdp[:,6], bins=bins)\n",
        "axs[1].hist(x_ihdp[:,7], bins=bins)\n",
        "axs[2].hist(x_ihdp[:,8], bins=bins)\n",
        "axs[3].hist(x_ihdp[:,9], bins=bins)\n",
        "plt.show()"
      ],
      "metadata": {
        "colab": {
          "base_uri": "https://localhost:8080/",
          "height": 237
        },
        "id": "920WyJyMgQpN",
        "outputId": "d1dfc14a-ae4b-4e07-fa57-c3147b37649a"
      },
      "execution_count": 23,
      "outputs": [
        {
          "output_type": "display_data",
          "data": {
            "image/png": "[encoded data removed]",
            "text/plain": [
              "<Figure size 1440x288 with 4 Axes>"
            ]
          },
          "metadata": {
            "needs_background": "light"
          }
        }
      ]
    },
    {
      "cell_type": "code",
      "source": [
        "bins=20\n",
        "fig, axs = plt.subplots(1, 5, figsize=(20, 4))\n",
        "axs[0].hist(x_ihdp[:,10], bins=bins)\n",
        "axs[1].hist(x_ihdp[:,11], bins=bins)\n",
        "axs[2].hist(x_ihdp[:,12], bins=bins)\n",
        "axs[3].hist(x_ihdp[:,13], bins=bins)\n",
        "axs[4].hist(x_ihdp[:,14], bins=bins)\n",
        "plt.show()"
      ],
      "metadata": {
        "colab": {
          "base_uri": "https://localhost:8080/",
          "height": 237
        },
        "outputId": "34df8dab-a536-474d-cf22-71f04da467b3",
        "id": "KfcboV-Q7GhF"
      },
      "execution_count": 24,
      "outputs": [
        {
          "output_type": "display_data",
          "data": {
            "image/png": "[encoded data removed]",
            "text/plain": [
              "<Figure size 1440x288 with 5 Axes>"
            ]
          },
          "metadata": {
            "needs_background": "light"
          }
        }
      ]
    },
    {
      "cell_type": "code",
      "source": [
        "bins=20\n",
        "fig, axs = plt.subplots(1, 5, figsize=(20, 4))\n",
        "axs[0].hist(x_ihdp[:,15], bins=bins)\n",
        "axs[1].hist(x_ihdp[:,16], bins=bins)\n",
        "axs[2].hist(x_ihdp[:,17], bins=bins)\n",
        "axs[3].hist(x_ihdp[:,18], bins=bins)\n",
        "axs[4].hist(x_ihdp[:,19], bins=bins)\n",
        "plt.show()"
      ],
      "metadata": {
        "colab": {
          "base_uri": "https://localhost:8080/",
          "height": 235
        },
        "outputId": "9e4ff3de-687e-4854-cfee-1c628b8b8521",
        "id": "ZS1B6qKG7aPy"
      },
      "execution_count": 25,
      "outputs": [
        {
          "output_type": "display_data",
          "data": {
            "image/png": "[encoded data removed]",
            "text/plain": [
              "<Figure size 1440x288 with 5 Axes>"
            ]
          },
          "metadata": {
            "needs_background": "light"
          }
        }
      ]
    },
    {
      "cell_type": "code",
      "source": [
        "bins=20\n",
        "fig, axs = plt.subplots(1, 5, figsize=(20, 4))\n",
        "axs[0].hist(x_ihdp[:,20], bins=bins)\n",
        "axs[1].hist(x_ihdp[:,21], bins=bins)\n",
        "axs[2].hist(x_ihdp[:,22], bins=bins)\n",
        "axs[3].hist(x_ihdp[:,23], bins=bins)\n",
        "axs[4].hist(x_ihdp[:,24], bins=bins)\n",
        "plt.show()"
      ],
      "metadata": {
        "colab": {
          "base_uri": "https://localhost:8080/",
          "height": 235
        },
        "outputId": "35dd82d0-b662-4116-ff38-98a854b2df26",
        "id": "vHLnPSF17uOX"
      },
      "execution_count": 26,
      "outputs": [
        {
          "output_type": "display_data",
          "data": {
            "image/png": "[encoded data removed]",
            "text/plain": [
              "<Figure size 1440x288 with 5 Axes>"
            ]
          },
          "metadata": {
            "needs_background": "light"
          }
        }
      ]
    },
    {
      "cell_type": "code",
      "source": [
        "x_jobs_flat = jobs['x'].reshape(-1,1)\n",
        "x_jobs = jobs['x']\n",
        "t_jobs = jobs['t'].reshape(-1,1)\n",
        "y_jobs = jobs['y'].reshape(-1,1)\n",
        "e_jobs = jobs['e'].reshape(-1,1)"
      ],
      "metadata": {
        "id": "YsA9jx3ise5z"
      },
      "execution_count": 27,
      "outputs": []
    },
    {
      "cell_type": "code",
      "source": [
        "jobs['x'][0]"
      ],
      "metadata": {
        "colab": {
          "base_uri": "https://localhost:8080/"
        },
        "id": "gJJIU6yXj16G",
        "outputId": "f38c2c7a-fb15-447c-aa2e-60c121b8067a"
      },
      "execution_count": 28,
      "outputs": [
        {
          "output_type": "execute_result",
          "data": {
            "text/plain": [
              "array([-0.61428209,  1.46472657,  0.        ,  0.        ,  1.        ,\n",
              "        0.        ,  2.39325   ,  2.74619647, -0.65331121, -0.65691271,\n",
              "        1.62753104,  2.46233663,  2.93724407,  0.        ,  0.        ,\n",
              "        2.84390896,  0.        ])"
            ]
          },
          "metadata": {},
          "execution_count": 28
        }
      ]
    },
    {
      "cell_type": "code",
      "source": [
        "for i in [0,1,6,7,8,9,10,11,12,15]:\n",
        "  print(np.max(x_jobs[:,i]))"
      ],
      "metadata": {
        "colab": {
          "base_uri": "https://localhost:8080/"
        },
        "id": "MW1eyRiZNZ5B",
        "outputId": "1fe06319-254c-4c01-90c5-df1d5f11a7b5"
      },
      "execution_count": 36,
      "outputs": [
        {
          "output_type": "stream",
          "name": "stdout",
          "text": [
            "2.1143372756571006\n",
            "1.8054494710632873\n",
            "8.751987463455608\n",
            "10.16506764568288\n",
            "2.446736878867096\n",
            "2.7733355859829296\n",
            "2.113701579040823\n",
            "23.05284075572758\n",
            "29.022641032904374\n",
            "7.13603049365373\n"
          ]
        }
      ]
    },
    {
      "cell_type": "code",
      "source": [
        "for i in [0,1,6,7,8,9,10,11,12,15]:\n",
        "  print(np.min(x_jobs[:,i]))"
      ],
      "metadata": {
        "colab": {
          "base_uri": "https://localhost:8080/"
        },
        "id": "6pu8AXEmPj9Q",
        "outputId": "052b4386-e983-4223-b9dd-38dfd372decd"
      },
      "execution_count": 37,
      "outputs": [
        {
          "output_type": "stream",
          "name": "stdout",
          "text": [
            "-1.4610949961930897\n",
            "-3.9868397720589073\n",
            "-1.1474106272396363\n",
            "-1.1104674465327902\n",
            "-1.164047106708605\n",
            "-0.9488315641570118\n",
            "-2.1439737169943367\n",
            "-0.5580568483682105\n",
            "-0.5188150629967283\n",
            "-0.9799811254456631\n"
          ]
        }
      ]
    },
    {
      "cell_type": "code",
      "source": [
        "for i in [0,1,6,7,8,9,10,11,12,15]:\n",
        "  print(np.std(x_jobs[:,i]))"
      ],
      "metadata": {
        "colab": {
          "base_uri": "https://localhost:8080/"
        },
        "id": "Hg7D35-qQopA",
        "outputId": "ba313074-7b68-4a22-f96d-f5973606a64d"
      },
      "execution_count": 38,
      "outputs": [
        {
          "output_type": "stream",
          "name": "stdout",
          "text": [
            "0.9998443216305639\n",
            "0.999844321630573\n",
            "0.9998443216305609\n",
            "0.9998443216305719\n",
            "0.9998443216305611\n",
            "0.9998443216305588\n",
            "0.9998443216305551\n",
            "0.9998443216305549\n",
            "0.9998443216305758\n",
            "0.9998443216305577\n"
          ]
        }
      ]
    },
    {
      "cell_type": "code",
      "source": [
        "bins=20\n",
        "fig, axs = plt.subplots(1, 4, figsize=(20, 4))\n",
        "axs[0].hist(x_jobs, bins=bins)\n",
        "axs[1].hist(t_jobs, bins=bins)\n",
        "axs[2].hist(y_jobs, bins=bins)\n",
        "axs[3].hist(e_jobs, bins=bins)\n",
        "plt.show()"
      ],
      "metadata": {
        "id": "ie-n1d3m1dQ1",
        "colab": {
          "base_uri": "https://localhost:8080/",
          "height": 234
        },
        "outputId": "4d4642ae-e9ff-4ac9-f61a-f0425f4471a9"
      },
      "execution_count": 29,
      "outputs": [
        {
          "output_type": "display_data",
          "data": {
            "image/png": "[encoded data removed]",
            "text/plain": [
              "<Figure size 1440x288 with 4 Axes>"
            ]
          },
          "metadata": {
            "needs_background": "light"
          }
        }
      ]
    },
    {
      "cell_type": "code",
      "source": [
        "bins=100\n",
        "fig, axs = plt.subplots(1, 5, figsize=(20, 4))\n",
        "axs[0].hist(x_jobs[:,0], bins=bins)\n",
        "axs[1].hist(x_jobs[:,1], bins=bins)\n",
        "axs[2].hist(x_jobs[:,6], bins=bins)\n",
        "axs[3].hist(x_jobs[:,7], bins=bins)\n",
        "axs[4].hist(x_jobs[:,8], bins=bins)\n",
        "plt.show()"
      ],
      "metadata": {
        "colab": {
          "base_uri": "https://localhost:8080/",
          "height": 235
        },
        "outputId": "eff30560-063e-47f4-d378-f6c6b1f44afa",
        "id": "17UTOIvw5gKD"
      },
      "execution_count": 30,
      "outputs": [
        {
          "output_type": "display_data",
          "data": {
            "image/png": "[encoded data removed]",
            "text/plain": [
              "<Figure size 1440x288 with 5 Axes>"
            ]
          },
          "metadata": {
            "needs_background": "light"
          }
        }
      ]
    },
    {
      "cell_type": "code",
      "source": [
        "bins=100\n",
        "fig, axs = plt.subplots(1, 5, figsize=(20, 4))\n",
        "axs[0].hist(x_jobs[:,9], bins=bins)\n",
        "axs[1].hist(x_jobs[:,10], bins=bins)\n",
        "axs[2].hist(x_jobs[:,11], bins=bins)\n",
        "axs[3].hist(x_jobs[:,12], bins=bins)\n",
        "axs[4].hist(x_jobs[:,15], bins=bins)\n",
        "plt.show()"
      ],
      "metadata": {
        "colab": {
          "base_uri": "https://localhost:8080/",
          "height": 236
        },
        "outputId": "6abaa255-81fb-4a4d-88a6-f31b25bbed17",
        "id": "Et24evt86UHT"
      },
      "execution_count": 31,
      "outputs": [
        {
          "output_type": "display_data",
          "data": {
            "image/png": "[encoded data removed]",
            "text/plain": [
              "<Figure size 1440x288 with 5 Axes>"
            ]
          },
          "metadata": {
            "needs_background": "light"
          }
        }
      ]
    },
    {
      "cell_type": "code",
      "source": [
        "bins=20\n",
        "fig, axs = plt.subplots(1, 7, figsize=(20, 4))\n",
        "axs[0].hist(x_jobs[:,2], bins=bins)\n",
        "axs[1].hist(x_jobs[:,3], bins=bins)\n",
        "axs[2].hist(x_jobs[:,4], bins=bins)\n",
        "axs[3].hist(x_jobs[:,5], bins=bins)\n",
        "axs[4].hist(x_jobs[:,13], bins=bins)#strange\n",
        "axs[5].hist(x_jobs[:,14], bins=bins)\n",
        "axs[6].hist(x_jobs[:,16], bins=bins)#strange \n",
        "plt.show()"
      ],
      "metadata": {
        "colab": {
          "base_uri": "https://localhost:8080/",
          "height": 233
        },
        "outputId": "e34a404c-a00c-45a4-b9c0-95630a132fb0",
        "id": "pC1xutyC8GE6"
      },
      "execution_count": 32,
      "outputs": [
        {
          "output_type": "display_data",
          "data": {
            "image/png": "[encoded data removed]",
            "text/plain": [
              "<Figure size 1440x288 with 7 Axes>"
            ]
          },
          "metadata": {
            "needs_background": "light"
          }
        }
      ]
    },
    {
      "cell_type": "code",
      "source": [
        "nan_jobs=np.isnan(jobs['x'])\n",
        "nan_jobs.any()"
      ],
      "metadata": {
        "colab": {
          "base_uri": "https://localhost:8080/"
        },
        "id": "F4vr8Sd52eGV",
        "outputId": "646f5b59-8405-426c-af90-15682d79a4f1"
      },
      "execution_count": 33,
      "outputs": [
        {
          "output_type": "execute_result",
          "data": {
            "text/plain": [
              "False"
            ]
          },
          "metadata": {},
          "execution_count": 33
        }
      ]
    }
  ]
}