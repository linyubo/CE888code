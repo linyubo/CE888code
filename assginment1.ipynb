{
  "nbformat": 4,
  "nbformat_minor": 0,
  "metadata": {
    "colab": {
      "name": "assginment1.ipynb",
      "provenance": [],
      "collapsed_sections": [],
      "authorship_tag": "ABX9TyNF9KnPFA2ROWbvlBvGSOny",
      "include_colab_link": true
    },
    "kernelspec": {
      "name": "python3",
      "display_name": "Python 3"
    },
    "language_info": {
      "name": "python"
    }
  },
  "cells": [
    {
      "cell_type": "markdown",
      "metadata": {
        "id": "view-in-github",
        "colab_type": "text"
      },
      "source": [
        "<a href=\"https://colab.research.google.com/github/linyubo/CE888code/blob/main/assginment1.ipynb\" target=\"_parent\"><img src=\"https://colab.research.google.com/assets/colab-badge.svg\" alt=\"Open In Colab\"/></a>"
      ]
    },
    {
      "cell_type": "markdown",
      "source": [
        "Download econml"
      ],
      "metadata": {
        "id": "WaNd8MrE74jd"
      }
    },
    {
      "cell_type": "code",
      "source": [
        "!pip install econml"
      ],
      "metadata": {
        "id": "G5R-uOYPZHsk",
        "colab": {
          "base_uri": "https://localhost:8080/"
        },
        "outputId": "b4eaf0b7-6a6c-432c-c425-a5ebff82c997"
      },
      "execution_count": null,
      "outputs": [
        {
          "output_type": "stream",
          "name": "stdout",
          "text": [
            "Collecting econml\n",
            "  Downloading econml-0.13.0-cp37-cp37m-manylinux_2_17_x86_64.manylinux2014_x86_64.whl (3.3 MB)\n",
            "\u001b[K     |████████████████████████████████| 3.3 MB 7.3 MB/s \n",
            "\u001b[?25hCollecting dowhy<0.7\n",
            "  Downloading dowhy-0.6-py3-none-any.whl (123 kB)\n",
            "\u001b[K     |████████████████████████████████| 123 kB 60.8 MB/s \n",
            "\u001b[?25hCollecting sparse\n",
            "  Downloading sparse-0.13.0-py2.py3-none-any.whl (77 kB)\n",
            "\u001b[K     |████████████████████████████████| 77 kB 7.2 MB/s \n",
            "\u001b[?25hRequirement already satisfied: statsmodels>=0.10 in /usr/local/lib/python3.7/dist-packages (from econml) (0.10.2)\n",
            "Requirement already satisfied: scikit-learn>0.22.0 in /usr/local/lib/python3.7/dist-packages (from econml) (1.0.2)\n",
            "Requirement already satisfied: joblib>=0.13.0 in /usr/local/lib/python3.7/dist-packages (from econml) (1.1.0)\n",
            "Requirement already satisfied: numpy in /usr/local/lib/python3.7/dist-packages (from econml) (1.21.5)\n",
            "Collecting shap<0.40.0,>=0.38.1\n",
            "  Downloading shap-0.39.0.tar.gz (356 kB)\n",
            "\u001b[K     |████████████████████████████████| 356 kB 60.9 MB/s \n",
            "\u001b[?25hRequirement already satisfied: pandas in /usr/local/lib/python3.7/dist-packages (from econml) (1.3.5)\n",
            "Requirement already satisfied: lightgbm in /usr/local/lib/python3.7/dist-packages (from econml) (2.2.3)\n",
            "Requirement already satisfied: scipy>1.4.0 in /usr/local/lib/python3.7/dist-packages (from econml) (1.4.1)\n",
            "Collecting pydot>=1.4\n",
            "  Downloading pydot-1.4.2-py2.py3-none-any.whl (21 kB)\n",
            "Requirement already satisfied: networkx>=2.0 in /usr/local/lib/python3.7/dist-packages (from dowhy<0.7->econml) (2.6.3)\n",
            "Requirement already satisfied: sympy>=1.4 in /usr/local/lib/python3.7/dist-packages (from dowhy<0.7->econml) (1.7.1)\n",
            "Requirement already satisfied: pytz>=2017.3 in /usr/local/lib/python3.7/dist-packages (from pandas->econml) (2018.9)\n",
            "Requirement already satisfied: python-dateutil>=2.7.3 in /usr/local/lib/python3.7/dist-packages (from pandas->econml) (2.8.2)\n",
            "Requirement already satisfied: pyparsing>=2.1.4 in /usr/local/lib/python3.7/dist-packages (from pydot>=1.4->dowhy<0.7->econml) (3.0.7)\n",
            "Requirement already satisfied: six>=1.5 in /usr/local/lib/python3.7/dist-packages (from python-dateutil>=2.7.3->pandas->econml) (1.15.0)\n",
            "Requirement already satisfied: threadpoolctl>=2.0.0 in /usr/local/lib/python3.7/dist-packages (from scikit-learn>0.22.0->econml) (3.1.0)\n",
            "Requirement already satisfied: tqdm>4.25.0 in /usr/local/lib/python3.7/dist-packages (from shap<0.40.0,>=0.38.1->econml) (4.62.3)\n",
            "Collecting slicer==0.0.7\n",
            "  Downloading slicer-0.0.7-py3-none-any.whl (14 kB)\n",
            "Requirement already satisfied: numba in /usr/local/lib/python3.7/dist-packages (from shap<0.40.0,>=0.38.1->econml) (0.51.2)\n",
            "Requirement already satisfied: cloudpickle in /usr/local/lib/python3.7/dist-packages (from shap<0.40.0,>=0.38.1->econml) (1.3.0)\n",
            "Requirement already satisfied: patsy>=0.4.0 in /usr/local/lib/python3.7/dist-packages (from statsmodels>=0.10->econml) (0.5.2)\n",
            "Requirement already satisfied: mpmath>=0.19 in /usr/local/lib/python3.7/dist-packages (from sympy>=1.4->dowhy<0.7->econml) (1.2.1)\n",
            "Requirement already satisfied: setuptools in /usr/local/lib/python3.7/dist-packages (from numba->shap<0.40.0,>=0.38.1->econml) (57.4.0)\n",
            "Requirement already satisfied: llvmlite<0.35,>=0.34.0.dev0 in /usr/local/lib/python3.7/dist-packages (from numba->shap<0.40.0,>=0.38.1->econml) (0.34.0)\n",
            "Building wheels for collected packages: shap\n",
            "  Building wheel for shap (setup.py) ... \u001b[?25l\u001b[?25hdone\n",
            "  Created wheel for shap: filename=shap-0.39.0-cp37-cp37m-linux_x86_64.whl size=491653 sha256=f47a111c9c7f131fce48f7612ddad3f68c4cabe0ad2870f8fe4378ffd78a540a\n",
            "  Stored in directory: /root/.cache/pip/wheels/ca/25/8f/6ae5df62c32651cd719e972e738a8aaa4a87414c4d2b14c9c0\n",
            "Successfully built shap\n",
            "Installing collected packages: slicer, pydot, sparse, shap, dowhy, econml\n",
            "  Attempting uninstall: pydot\n",
            "    Found existing installation: pydot 1.3.0\n",
            "    Uninstalling pydot-1.3.0:\n",
            "      Successfully uninstalled pydot-1.3.0\n",
            "Successfully installed dowhy-0.6 econml-0.13.0 pydot-1.4.2 shap-0.39.0 slicer-0.0.7 sparse-0.13.0\n"
          ]
        }
      ]
    },
    {
      "cell_type": "markdown",
      "source": [
        "Import libaries"
      ],
      "metadata": {
        "id": "lQyhWtnw7_yy"
      }
    },
    {
      "cell_type": "code",
      "execution_count": null,
      "metadata": {
        "id": "DQvdqXEFXvAR",
        "colab": {
          "base_uri": "https://localhost:8080/"
        },
        "outputId": "35df9dd2-2b28-4894-8c6a-9a3634e117b1"
      },
      "outputs": [
        {
          "output_type": "stream",
          "name": "stderr",
          "text": [
            "/usr/local/lib/python3.7/dist-packages/statsmodels/tools/_testing.py:19: FutureWarning: pandas.util.testing is deprecated. Use the functions in the public API at pandas.testing instead.\n",
            "  import pandas.util.testing as tm\n"
          ]
        }
      ],
      "source": [
        "from econml.metalearners import XLearner\n",
        "from sklearn.ensemble import RandomForestRegressor, RandomForestClassifier\n",
        "from sklearn.model_selection import train_test_split\n",
        "from sklearn.preprocessing import StandardScaler\n",
        "import numpy as np\n",
        "import pandas as pd\n",
        "import scipy.stats as st\n",
        "import matplotlib.pyplot as plt\n"
      ]
    },
    {
      "cell_type": "code",
      "source": [
        "!wget https://github.com/dmachlanski/CE888_2022/raw/main/project/data/ihdp.npz\n",
        "!wget https://github.com/dmachlanski/CE888_2022/raw/main/project/data/jobs.npz"
      ],
      "metadata": {
        "id": "bPjmwjRrZifW",
        "colab": {
          "base_uri": "https://localhost:8080/"
        },
        "outputId": "55f9af69-c054-47b7-d9ee-bde0bc75bb38"
      },
      "execution_count": null,
      "outputs": [
        {
          "output_type": "stream",
          "name": "stdout",
          "text": [
            "--2022-02-19 16:25:52--  https://github.com/dmachlanski/CE888_2022/raw/main/project/data/ihdp.npz\n",
            "Resolving github.com (github.com)... 140.82.112.3\n",
            "Connecting to github.com (github.com)|140.82.112.3|:443... connected.\n",
            "HTTP request sent, awaiting response... 302 Found\n",
            "Location: https://raw.githubusercontent.com/dmachlanski/CE888_2022/main/project/data/ihdp.npz [following]\n",
            "--2022-02-19 16:25:53--  https://raw.githubusercontent.com/dmachlanski/CE888_2022/main/project/data/ihdp.npz\n",
            "Resolving raw.githubusercontent.com (raw.githubusercontent.com)... 185.199.109.133, 185.199.110.133, 185.199.111.133, ...\n",
            "Connecting to raw.githubusercontent.com (raw.githubusercontent.com)|185.199.109.133|:443... connected.\n",
            "HTTP request sent, awaiting response... 200 OK\n",
            "Length: 174506 (170K) [application/octet-stream]\n",
            "Saving to: ‘ihdp.npz’\n",
            "\n",
            "ihdp.npz            100%[===================>] 170.42K  --.-KB/s    in 0.01s   \n",
            "\n",
            "2022-02-19 16:25:53 (11.6 MB/s) - ‘ihdp.npz’ saved [174506/174506]\n",
            "\n",
            "--2022-02-19 16:25:53--  https://github.com/dmachlanski/CE888_2022/raw/main/project/data/jobs.npz\n",
            "Resolving github.com (github.com)... 140.82.112.3\n",
            "Connecting to github.com (github.com)|140.82.112.3|:443... connected.\n",
            "HTTP request sent, awaiting response... 302 Found\n",
            "Location: https://raw.githubusercontent.com/dmachlanski/CE888_2022/main/project/data/jobs.npz [following]\n",
            "--2022-02-19 16:25:53--  https://raw.githubusercontent.com/dmachlanski/CE888_2022/main/project/data/jobs.npz\n",
            "Resolving raw.githubusercontent.com (raw.githubusercontent.com)... 185.199.110.133, 185.199.108.133, 185.199.111.133, ...\n",
            "Connecting to raw.githubusercontent.com (raw.githubusercontent.com)|185.199.110.133|:443... connected.\n",
            "HTTP request sent, awaiting response... 200 OK\n",
            "Length: 447426 (437K) [application/octet-stream]\n",
            "Saving to: ‘jobs.npz’\n",
            "\n",
            "jobs.npz            100%[===================>] 436.94K  --.-KB/s    in 0.02s   \n",
            "\n",
            "2022-02-19 16:25:54 (19.4 MB/s) - ‘jobs.npz’ saved [447426/447426]\n",
            "\n"
          ]
        }
      ]
    },
    {
      "cell_type": "code",
      "source": [
        "ihdp = np.load('ihdp.npz')\n",
        "jobs = np.load('jobs.npz')"
      ],
      "metadata": {
        "id": "OLDge1bWNTUw"
      },
      "execution_count": null,
      "outputs": []
    },
    {
      "cell_type": "code",
      "source": [
        "ihdp.files"
      ],
      "metadata": {
        "id": "KXPXLamFGSFo",
        "colab": {
          "base_uri": "https://localhost:8080/"
        },
        "outputId": "0c21fd89-cdcc-4fb7-a8e8-e77b34d2c0af"
      },
      "execution_count": null,
      "outputs": [
        {
          "output_type": "execute_result",
          "data": {
            "text/plain": [
              "['x', 't', 'yf', 'ycf', 'ite']"
            ]
          },
          "metadata": {},
          "execution_count": 5
        }
      ]
    },
    {
      "cell_type": "code",
      "source": [
        "for f in ihdp.files:\n",
        "  print(f'{f}: {ihdp[f].shape}')"
      ],
      "metadata": {
        "id": "eX1eqmrrIdCm",
        "colab": {
          "base_uri": "https://localhost:8080/"
        },
        "outputId": "531d592b-0884-43b7-80a2-29818c4a1cbc"
      },
      "execution_count": null,
      "outputs": [
        {
          "output_type": "stream",
          "name": "stdout",
          "text": [
            "x: (747, 25)\n",
            "t: (747, 1)\n",
            "yf: (747, 1)\n",
            "ycf: (747, 1)\n",
            "ite: (747, 1)\n"
          ]
        }
      ]
    },
    {
      "cell_type": "code",
      "source": [
        "ihdp['x']"
      ],
      "metadata": {
        "id": "RsVmVf8eIdyq",
        "colab": {
          "base_uri": "https://localhost:8080/"
        },
        "outputId": "1acdfc0e-e32a-4e0c-cce1-211af58ebaab"
      },
      "execution_count": null,
      "outputs": [
        {
          "output_type": "execute_result",
          "data": {
            "text/plain": [
              "array([[ 1.39739503,  0.99634625, -1.10562395, ...,  0.        ,\n",
              "         0.        ,  1.        ],\n",
              "       [ 0.26903265,  0.19681812,  0.38382797, ...,  0.        ,\n",
              "         0.        ,  0.        ],\n",
              "       [ 1.05153683,  1.79587438, -1.10562395, ...,  0.        ,\n",
              "         0.        ,  1.        ],\n",
              "       ...,\n",
              "       [-1.04522851, -1.33727611,  1.12855393, ...,  0.        ,\n",
              "         0.        ,  0.        ],\n",
              "       [-0.11573459, -0.60271001, -1.10562395, ...,  1.        ,\n",
              "         0.        ,  0.        ],\n",
              "       [ 1.41901117,  1.39611031, -0.73326097, ...,  0.        ,\n",
              "         0.        ,  1.        ]])"
            ]
          },
          "metadata": {},
          "execution_count": 7
        }
      ]
    },
    {
      "cell_type": "code",
      "source": [
        "jobs.files"
      ],
      "metadata": {
        "id": "KD-23DkBGkZ1",
        "colab": {
          "base_uri": "https://localhost:8080/"
        },
        "outputId": "2a4b776e-a3a7-436f-bf8e-f3a0edafd251"
      },
      "execution_count": null,
      "outputs": [
        {
          "output_type": "execute_result",
          "data": {
            "text/plain": [
              "['x', 't', 'y', 'e']"
            ]
          },
          "metadata": {},
          "execution_count": 8
        }
      ]
    },
    {
      "cell_type": "code",
      "source": [
        "for f in jobs.files:\n",
        "  print(f'{f}: {jobs[f].shape}')"
      ],
      "metadata": {
        "id": "T5vsctbqIjge",
        "colab": {
          "base_uri": "https://localhost:8080/"
        },
        "outputId": "3101005e-04a0-41bb-ace6-78fb66e1f9d5"
      },
      "execution_count": null,
      "outputs": [
        {
          "output_type": "stream",
          "name": "stdout",
          "text": [
            "x: (3212, 17)\n",
            "t: (3212, 1)\n",
            "y: (3212, 1)\n",
            "e: (3212, 1)\n"
          ]
        }
      ]
    },
    {
      "cell_type": "code",
      "source": [
        "x_ihdp_flat = ihdp['x'].reshape(-1,1)\n",
        "x_ihdp = ihdp['x']\n",
        "t_ihdp = ihdp['t'].reshape(-1,1)\n",
        "yf_ihdp = ihdp['yf'].reshape(-1,1)\n",
        "ycf_ihdp = ihdp['ycf'].reshape(-1,1)\n",
        "ite_ihdp = ihdp['ite']"
      ],
      "metadata": {
        "id": "I-4GnDl-k-67"
      },
      "execution_count": null,
      "outputs": []
    },
    {
      "cell_type": "code",
      "metadata": {
        "id": "72uhd6sQ-od7",
        "colab": {
          "base_uri": "https://localhost:8080/",
          "height": 265
        },
        "outputId": "066f1a08-3bb8-497c-f873-ec4074bb8d40"
      },
      "source": [
        "bins=20\n",
        "fig, axs = plt.subplots(1, 5, figsize=(16, 4))\n",
        "axs[0].hist(x_ihdp, bins=bins)\n",
        "axs[1].hist(t_ihdp, bins=bins)\n",
        "axs[2].hist(yf_ihdp, bins=bins)\n",
        "axs[3].hist(ycf_ihdp, bins=bins)\n",
        "axs[4].hist(ite_ihdp, bins=bins)\n",
        "plt.show()"
      ],
      "execution_count": null,
      "outputs": [
        {
          "output_type": "display_data",
          "data": {
            "image/png": "[encoded data removed]",
            "text/plain": [
              "<Figure size 1152x288 with 5 Axes>"
            ]
          },
          "metadata": {
            "needs_background": "light"
          }
        }
      ]
    },
    {
      "cell_type": "code",
      "source": [
        "np.mean(x_ihdp)"
      ],
      "metadata": {
        "id": "uZYVk2sqHdDw",
        "colab": {
          "base_uri": "https://localhost:8080/",
          "height": 37
        },
        "outputId": "329ba0db-80dc-40f4-b3ec-fe96faad25c0"
      },
      "execution_count": null,
      "outputs": [
        {
          "output_type": "execute_result",
          "data": {
            "image/png": "[encoded data removed]",
            "text/latex": "$\\displaystyle 0.253226238286479$",
            "text/plain": [
              "0.2532262382864792"
            ]
          },
          "metadata": {},
          "execution_count": 12
        }
      ]
    },
    {
      "cell_type": "code",
      "source": [
        "x_jobs_flat = jobs['x'].reshape(-1,1)\n",
        "t_jobs = jobs['t'].reshape(-1,1)\n",
        "y_jobs = jobs['y'].reshape(-1,1)\n",
        "e_jobs = jobs['e'].reshape(-1,1)"
      ],
      "metadata": {
        "id": "YsA9jx3ise5z"
      },
      "execution_count": null,
      "outputs": []
    },
    {
      "cell_type": "code",
      "source": [
        "bins=20\n",
        "fig, axs = plt.subplots(1, 4, figsize=(16, 4))\n",
        "axs[0].hist(jobs['x'], bins=bins)\n",
        "axs[1].hist(t_jobs, bins=bins)\n",
        "axs[2].hist(y_jobs, bins=bins)\n",
        "axs[3].hist(e_jobs, bins=bins)\n",
        "plt.show()"
      ],
      "metadata": {
        "id": "ie-n1d3m1dQ1",
        "colab": {
          "base_uri": "https://localhost:8080/",
          "height": 265
        },
        "outputId": "92c1a32f-5e81-4620-f054-d27eabbd17d4"
      },
      "execution_count": null,
      "outputs": [
        {
          "output_type": "display_data",
          "data": {
            "image/png": "[encoded data removed]",
            "text/plain": [
              "<Figure size 1152x288 with 4 Axes>"
            ]
          },
          "metadata": {
            "needs_background": "light"
          }
        }
      ]
    },
    {
      "cell_type": "code",
      "source": [
        "np.mean(x_jobs_flat)"
      ],
      "metadata": {
        "id": "6wjhvQjET3r3",
        "colab": {
          "base_uri": "https://localhost:8080/",
          "height": 37
        },
        "outputId": "4dac6367-bdc6-4111-c2f5-56db0803eb94"
      },
      "execution_count": null,
      "outputs": [
        {
          "output_type": "execute_result",
          "data": {
            "image/png": "[encoded data removed]",
            "text/latex": "$\\displaystyle 0.111182330964766$",
            "text/plain": [
              "0.11118233096476554"
            ]
          },
          "metadata": {},
          "execution_count": 15
        }
      ]
    },
    {
      "cell_type": "code",
      "source": [
        "np.isnan(jobs['x'])"
      ],
      "metadata": {
        "colab": {
          "base_uri": "https://localhost:8080/"
        },
        "id": "F4vr8Sd52eGV",
        "outputId": "c8a19f9b-68a3-4327-db3f-91b48015a1f0"
      },
      "execution_count": null,
      "outputs": [
        {
          "output_type": "execute_result",
          "data": {
            "text/plain": [
              "array([[False, False, False, ..., False, False, False],\n",
              "       [False, False, False, ..., False, False, False],\n",
              "       [False, False, False, ..., False, False, False],\n",
              "       ...,\n",
              "       [False, False, False, ..., False, False, False],\n",
              "       [False, False, False, ..., False, False, False],\n",
              "       [False, False, False, ..., False, False, False]])"
            ]
          },
          "metadata": {},
          "execution_count": 24
        }
      ]
    },
    {
      "cell_type": "code",
      "source": [
        "def abs_ate(effect_true, effect_pred):\n",
        "    \"\"\"\n",
        "    Absolute error for the Average Treatment Effect (ATE)\n",
        "    :param effect_true: true treatment effect value\n",
        "    :param effect_pred: predicted treatment effect value\n",
        "    :return: absolute error on ATE\n",
        "    \"\"\"\n",
        "    \n",
        "    ate = np.abs(np.mean(effect_true)-np.mean(effect_pred))\n",
        "    return ate\n",
        "    \n",
        "\n",
        "def pehe(effect_true, effect_pred):\n",
        "    \"\"\"\n",
        "    Precision in Estimating the Heterogeneous Treatment Effect (PEHE)\n",
        "    :param effect_true: true treatment effect value\n",
        "    :param effect_pred: predicted treatment effect value\n",
        "    :return: PEHE\n",
        "    \"\"\"\n",
        "    \n",
        "    a = np.sqrt(np.mean((effect_true-effect_pred)**2))\n",
        "    return a"
      ],
      "metadata": {
        "id": "n2noo3rieGQY"
      },
      "execution_count": null,
      "outputs": []
    },
    {
      "cell_type": "code",
      "source": [
        "x_jobs_train, x_jobs_test, t_jobs_train, t_jobs_test, y_jobs_train, y_jobs_test, e_jobs_train, e_jobs_test = train_test_split(jobs['x'], t_jobs, y_jobs, e_jobs, test_size=0.2)\n",
        "\n",
        "scaler_x = StandardScaler()\n",
        "x_jobs_train = scaler_x.fit_transform(x_jobs_train)\n",
        "x_jobs_test = scaler_x.transform(x_jobs_test)"
      ],
      "metadata": {
        "id": "a-yJI64HJbJH"
      },
      "execution_count": null,
      "outputs": []
    },
    {
      "cell_type": "markdown",
      "source": [
        "Random Forest"
      ],
      "metadata": {
        "id": "G8EVaCIYU3ir"
      }
    },
    {
      "cell_type": "code",
      "metadata": {
        "id": "r-u0hCF1vhQ2"
      },
      "source": [
        "# Random Forest with default parameters.\n",
        "rf = RandomForestRegressor()\n",
        "\n",
        "# Train on the training data.\n",
        "# In the supervised setting, our usual X here consists of X and T.\n",
        "# The target is Y - the outcome.\n",
        "# Input: [X, T], output: Y.\n",
        "# Hint: use np.concatenate or np.hstack functions to merge X and T.\n",
        "\n",
        "xt_jobs_train = np.concatenate([x_jobs_train,t_jobs_train],axis=1)\n",
        "\n",
        "rf.fit(xt_jobs_train,y_jobs_train.flatten())\n",
        "\n",
        "# Predictions\n",
        "# Note we set T to a specific value for ALL individuals.\n",
        "# These are interventional distributions - P(Y|X, do(T=t)).\n",
        "\n",
        "# Predict Y_0 given [X, 0]\n",
        "# Hint: use np.zeros_like or np.zeros functions to get the zeros for all units.\n",
        "# Hint 2: you still have to merge X and zeros (see training above).\n",
        "xt0_jobs_test =  np.concatenate([x_jobs_test,np.zeros((643,1))],axis=1)\n",
        "\n",
        "rf_y0_jobs_test = rf.predict(xt0_jobs_test)\n",
        "\n",
        "# Predict Y_1 given [X, 1]\n",
        "# Hint: use np.ones_like or np.ones functions to get the ones for all units.\n",
        "# Hint 2: you still have to merge X and ones (see training above).\n",
        "xt1_jobs_test = np.concatenate([x_jobs_test,np.ones((643,1))],axis=1)\n",
        "\n",
        "rf_y1_jobs_test = rf.predict(xt1_jobs_test)\n",
        "\n",
        "# Compute ITEs\n",
        "# ITE = Y_1 - Y_0\n",
        "rf_te_jobs_test = rf_y1_jobs_test - rf_y0_jobs_test\n"
      ],
      "execution_count": null,
      "outputs": []
    },
    {
      "cell_type": "markdown",
      "source": [
        "IPW"
      ],
      "metadata": {
        "id": "Y6GSPFPUF98d"
      }
    },
    {
      "cell_type": "code",
      "metadata": {
        "id": "wMTSqYIewYX5"
      },
      "source": [
        "def get_ps_weights(clf, x, t):\n",
        "  ti = np.squeeze(t)\n",
        "  clf.fit(x, ti)\n",
        "  ptx = clf.predict_proba(x).T[1].T + 0.0001 # add a small value to avoid dividing by 0\n",
        "  # Given ti and ptx values, compute the weights wi (see formula above):\n",
        "  wi = (ti/ptx) + (1-ti)/(1-ptx)\n",
        "\n",
        "  return wi"
      ],
      "execution_count": null,
      "outputs": []
    },
    {
      "cell_type": "code",
      "metadata": {
        "id": "tfguw3FCwmYz"
      },
      "source": [
        "# Get the sample weights\n",
        "prop_clf = RandomForestClassifier()\n",
        "weights = get_ps_weights(prop_clf, x_jobs_train, t_jobs_train)\n",
        "\n",
        "# Train the regressor\n",
        "rf_ipsw = RandomForestRegressor()\n",
        "\n",
        "rf_ipsw.fit(xt_jobs_train, y_jobs_train.flatten(), sample_weight=''' pass the weights ''')\n",
        "\n",
        "# Make predictions\n",
        "rf_ipsw_y0_test = rf.predict(np.concatenate([xt_jobs_train,np.zeros_like(xt_jobs_train)],axis=1))\n",
        "rf_ipsw_y1_test = rf.predict(np.concatenate([xt_jobs_train,np.ones_like(xt_jobs_train)],axis=1))\n",
        "\n",
        "# Compute ITEs\n",
        "rf_ipsw_te_test = rf_ipsw_y1_test - rf_ipsw_y0_test"
      ],
      "execution_count": null,
      "outputs": []
    },
    {
      "cell_type": "code",
      "metadata": {
        "id": "4IWeKlOOvQfy",
        "colab": {
          "base_uri": "https://localhost:8080/"
        },
        "outputId": "12257fc7-4be1-422b-9628-c38deee5685e"
      },
      "source": [
        "# X-Learner\n",
        "xl_jobs = XLearner(models=RandomForestRegressor(), propensity_model=RandomForestClassifier())\n",
        "xl_jobs.fit(y_jobs_train, t_jobs_train.flatten(), X=x_jobs_train)\n",
        "\n",
        "xl_jobs_te_test = xl_jobs.effect(x_jobs_test)"
      ],
      "execution_count": null,
      "outputs": [
        {
          "output_type": "stream",
          "name": "stderr",
          "text": [
            "Function get_feature_names is deprecated; get_feature_names is deprecated in 1.0 and will be removed in 1.2. Please use get_feature_names_out instead.\n"
          ]
        }
      ]
    }
  ]
}