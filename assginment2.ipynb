{
  "nbformat": 4,
  "nbformat_minor": 0,
  "metadata": {
    "colab": {
      "name": "assginment2.ipynb",
      "provenance": [],
      "collapsed_sections": [],
      "authorship_tag": "ABX9TyPyROjHN2t91QnzOay5SHok",
      "include_colab_link": true
    },
    "kernelspec": {
      "name": "python3",
      "display_name": "Python 3"
    },
    "language_info": {
      "name": "python"
    }
  },
  "cells": [
    {
      "cell_type": "markdown",
      "metadata": {
        "id": "view-in-github",
        "colab_type": "text"
      },
      "source": [
        "<a href=\"https://colab.research.google.com/github/linyubo/CE888code/blob/main/assginment2.ipynb\" target=\"_parent\"><img src=\"https://colab.research.google.com/assets/colab-badge.svg\" alt=\"Open In Colab\"/></a>"
      ]
    },
    {
      "cell_type": "markdown",
      "source": [
        "Download econml"
      ],
      "metadata": {
        "id": "WaNd8MrE74jd"
      }
    },
    {
      "cell_type": "code",
      "source": [
        "!pip install econml"
      ],
      "metadata": {
        "id": "G5R-uOYPZHsk",
        "colab": {
          "base_uri": "https://localhost:8080/"
        },
        "outputId": "2b6045a3-bae8-41b8-bf8e-fad593692b4e"
      },
      "execution_count": null,
      "outputs": [
        {
          "output_type": "stream",
          "name": "stdout",
          "text": [
            "Requirement already satisfied: econml in /usr/local/lib/python3.7/dist-packages (0.13.0)\n",
            "Requirement already satisfied: numpy in /usr/local/lib/python3.7/dist-packages (from econml) (1.21.6)\n",
            "Requirement already satisfied: scipy>1.4.0 in /usr/local/lib/python3.7/dist-packages (from econml) (1.4.1)\n",
            "Requirement already satisfied: sparse in /usr/local/lib/python3.7/dist-packages (from econml) (0.13.0)\n",
            "Requirement already satisfied: pandas in /usr/local/lib/python3.7/dist-packages (from econml) (1.3.5)\n",
            "Requirement already satisfied: lightgbm in /usr/local/lib/python3.7/dist-packages (from econml) (2.2.3)\n",
            "Requirement already satisfied: dowhy<0.7 in /usr/local/lib/python3.7/dist-packages (from econml) (0.6)\n",
            "Requirement already satisfied: shap<0.40.0,>=0.38.1 in /usr/local/lib/python3.7/dist-packages (from econml) (0.39.0)\n",
            "Requirement already satisfied: joblib>=0.13.0 in /usr/local/lib/python3.7/dist-packages (from econml) (1.1.0)\n",
            "Requirement already satisfied: statsmodels>=0.10 in /usr/local/lib/python3.7/dist-packages (from econml) (0.10.2)\n",
            "Requirement already satisfied: scikit-learn>0.22.0 in /usr/local/lib/python3.7/dist-packages (from econml) (1.0.2)\n",
            "Requirement already satisfied: sympy>=1.4 in /usr/local/lib/python3.7/dist-packages (from dowhy<0.7->econml) (1.7.1)\n",
            "Requirement already satisfied: pydot>=1.4 in /usr/local/lib/python3.7/dist-packages (from dowhy<0.7->econml) (1.4.2)\n",
            "Requirement already satisfied: networkx>=2.0 in /usr/local/lib/python3.7/dist-packages (from dowhy<0.7->econml) (2.6.3)\n",
            "Requirement already satisfied: python-dateutil>=2.7.3 in /usr/local/lib/python3.7/dist-packages (from pandas->econml) (2.8.2)\n",
            "Requirement already satisfied: pytz>=2017.3 in /usr/local/lib/python3.7/dist-packages (from pandas->econml) (2022.1)\n",
            "Requirement already satisfied: pyparsing>=2.1.4 in /usr/local/lib/python3.7/dist-packages (from pydot>=1.4->dowhy<0.7->econml) (3.0.8)\n",
            "Requirement already satisfied: six>=1.5 in /usr/local/lib/python3.7/dist-packages (from python-dateutil>=2.7.3->pandas->econml) (1.15.0)\n",
            "Requirement already satisfied: threadpoolctl>=2.0.0 in /usr/local/lib/python3.7/dist-packages (from scikit-learn>0.22.0->econml) (3.1.0)\n",
            "Requirement already satisfied: tqdm>4.25.0 in /usr/local/lib/python3.7/dist-packages (from shap<0.40.0,>=0.38.1->econml) (4.64.0)\n",
            "Requirement already satisfied: numba in /usr/local/lib/python3.7/dist-packages (from shap<0.40.0,>=0.38.1->econml) (0.51.2)\n",
            "Requirement already satisfied: slicer==0.0.7 in /usr/local/lib/python3.7/dist-packages (from shap<0.40.0,>=0.38.1->econml) (0.0.7)\n",
            "Requirement already satisfied: cloudpickle in /usr/local/lib/python3.7/dist-packages (from shap<0.40.0,>=0.38.1->econml) (1.3.0)\n",
            "Requirement already satisfied: patsy>=0.4.0 in /usr/local/lib/python3.7/dist-packages (from statsmodels>=0.10->econml) (0.5.2)\n",
            "Requirement already satisfied: mpmath>=0.19 in /usr/local/lib/python3.7/dist-packages (from sympy>=1.4->dowhy<0.7->econml) (1.2.1)\n",
            "Requirement already satisfied: llvmlite<0.35,>=0.34.0.dev0 in /usr/local/lib/python3.7/dist-packages (from numba->shap<0.40.0,>=0.38.1->econml) (0.34.0)\n",
            "Requirement already satisfied: setuptools in /usr/local/lib/python3.7/dist-packages (from numba->shap<0.40.0,>=0.38.1->econml) (57.4.0)\n"
          ]
        }
      ]
    },
    {
      "cell_type": "markdown",
      "source": [
        "Import libaries"
      ],
      "metadata": {
        "id": "lQyhWtnw7_yy"
      }
    },
    {
      "cell_type": "code",
      "execution_count": null,
      "metadata": {
        "id": "DQvdqXEFXvAR",
        "colab": {
          "base_uri": "https://localhost:8080/"
        },
        "outputId": "1c6fc6aa-5a43-4c8f-a0a2-fd89ede09fd8"
      },
      "outputs": [
        {
          "output_type": "stream",
          "name": "stderr",
          "text": [
            "/usr/local/lib/python3.7/dist-packages/statsmodels/tools/_testing.py:19: FutureWarning: pandas.util.testing is deprecated. Use the functions in the public API at pandas.testing instead.\n",
            "  import pandas.util.testing as tm\n"
          ]
        }
      ],
      "source": [
        "from econml.metalearners import XLearner\n",
        "from sklearn.ensemble import RandomForestRegressor, RandomForestClassifier\n",
        "from sklearn.model_selection import train_test_split\n",
        "from sklearn.preprocessing import StandardScaler\n",
        "# for k-fold\n",
        "from sklearn.pipeline import make_pipeline\n",
        "from sklearn.svm import SVC\n",
        "from sklearn.model_selection import StratifiedKFold\n",
        "from sklearn.model_selection import KFold\n",
        "from sklearn.model_selection import GridSearchCV\n",
        "import numpy as np\n",
        "import pandas as pd\n",
        "import scipy.stats as st\n",
        "import matplotlib.pyplot as plt\n"
      ]
    },
    {
      "cell_type": "code",
      "source": [
        "!wget https://github.com/dmachlanski/CE888_2022/raw/main/project/data/ihdp.npz\n",
        "!wget https://github.com/dmachlanski/CE888_2022/raw/main/project/data/jobs.npz"
      ],
      "metadata": {
        "id": "bPjmwjRrZifW",
        "colab": {
          "base_uri": "https://localhost:8080/"
        },
        "outputId": "f95b46b0-7b6c-426c-a73d-f8a96a151117"
      },
      "execution_count": null,
      "outputs": [
        {
          "output_type": "stream",
          "name": "stdout",
          "text": [
            "--2022-04-25 17:58:19--  https://github.com/dmachlanski/CE888_2022/raw/main/project/data/ihdp.npz\n",
            "Resolving github.com (github.com)... 140.82.112.3\n",
            "Connecting to github.com (github.com)|140.82.112.3|:443... connected.\n",
            "HTTP request sent, awaiting response... 302 Found\n",
            "Location: https://raw.githubusercontent.com/dmachlanski/CE888_2022/main/project/data/ihdp.npz [following]\n",
            "--2022-04-25 17:58:19--  https://raw.githubusercontent.com/dmachlanski/CE888_2022/main/project/data/ihdp.npz\n",
            "Resolving raw.githubusercontent.com (raw.githubusercontent.com)... 185.199.110.133, 185.199.111.133, 185.199.109.133, ...\n",
            "Connecting to raw.githubusercontent.com (raw.githubusercontent.com)|185.199.110.133|:443... connected.\n",
            "HTTP request sent, awaiting response... 200 OK\n",
            "Length: 174506 (170K) [application/octet-stream]\n",
            "Saving to: ‘ihdp.npz’\n",
            "\n",
            "ihdp.npz            100%[===================>] 170.42K  --.-KB/s    in 0.02s   \n",
            "\n",
            "2022-04-25 17:58:19 (7.07 MB/s) - ‘ihdp.npz’ saved [174506/174506]\n",
            "\n",
            "--2022-04-25 17:58:19--  https://github.com/dmachlanski/CE888_2022/raw/main/project/data/jobs.npz\n",
            "Resolving github.com (github.com)... 140.82.113.4\n",
            "Connecting to github.com (github.com)|140.82.113.4|:443... connected.\n",
            "HTTP request sent, awaiting response... 302 Found\n",
            "Location: https://raw.githubusercontent.com/dmachlanski/CE888_2022/main/project/data/jobs.npz [following]\n",
            "--2022-04-25 17:58:20--  https://raw.githubusercontent.com/dmachlanski/CE888_2022/main/project/data/jobs.npz\n",
            "Resolving raw.githubusercontent.com (raw.githubusercontent.com)... 185.199.111.133, 185.199.110.133, 185.199.109.133, ...\n",
            "Connecting to raw.githubusercontent.com (raw.githubusercontent.com)|185.199.111.133|:443... connected.\n",
            "HTTP request sent, awaiting response... 200 OK\n",
            "Length: 447426 (437K) [application/octet-stream]\n",
            "Saving to: ‘jobs.npz’\n",
            "\n",
            "jobs.npz            100%[===================>] 436.94K  --.-KB/s    in 0.04s   \n",
            "\n",
            "2022-04-25 17:58:20 (12.2 MB/s) - ‘jobs.npz’ saved [447426/447426]\n",
            "\n"
          ]
        }
      ]
    },
    {
      "cell_type": "code",
      "source": [
        "ihdp = np.load('ihdp.npz')\n",
        "jobs = np.load('jobs.npz')"
      ],
      "metadata": {
        "id": "OLDge1bWNTUw"
      },
      "execution_count": null,
      "outputs": []
    },
    {
      "cell_type": "code",
      "source": [
        "ihdp.files"
      ],
      "metadata": {
        "id": "KXPXLamFGSFo",
        "colab": {
          "base_uri": "https://localhost:8080/"
        },
        "outputId": "55d7354f-b444-4b17-f33b-66c530f5d61d"
      },
      "execution_count": null,
      "outputs": [
        {
          "output_type": "execute_result",
          "data": {
            "text/plain": [
              "['x', 't', 'yf', 'ycf', 'ite']"
            ]
          },
          "metadata": {},
          "execution_count": 7
        }
      ]
    },
    {
      "cell_type": "code",
      "source": [
        "for f in ihdp.files:\n",
        "  print(f'{f}: {ihdp[f].shape}')"
      ],
      "metadata": {
        "id": "eX1eqmrrIdCm",
        "colab": {
          "base_uri": "https://localhost:8080/"
        },
        "outputId": "8624f4b9-4c90-41fe-e84c-63fc17446ce6"
      },
      "execution_count": null,
      "outputs": [
        {
          "output_type": "stream",
          "name": "stdout",
          "text": [
            "x: (747, 25)\n",
            "t: (747, 1)\n",
            "yf: (747, 1)\n",
            "ycf: (747, 1)\n",
            "ite: (747, 1)\n"
          ]
        }
      ]
    },
    {
      "cell_type": "code",
      "source": [
        "ihdp['x']"
      ],
      "metadata": {
        "id": "RsVmVf8eIdyq",
        "colab": {
          "base_uri": "https://localhost:8080/"
        },
        "outputId": "42d8560c-3560-43f6-8b92-e44c8d57c191"
      },
      "execution_count": null,
      "outputs": [
        {
          "output_type": "execute_result",
          "data": {
            "text/plain": [
              "array([[ 1.39739503,  0.99634625, -1.10562395, ...,  0.        ,\n",
              "         0.        ,  1.        ],\n",
              "       [ 0.26903265,  0.19681812,  0.38382797, ...,  0.        ,\n",
              "         0.        ,  0.        ],\n",
              "       [ 1.05153683,  1.79587438, -1.10562395, ...,  0.        ,\n",
              "         0.        ,  1.        ],\n",
              "       ...,\n",
              "       [-1.04522851, -1.33727611,  1.12855393, ...,  0.        ,\n",
              "         0.        ,  0.        ],\n",
              "       [-0.11573459, -0.60271001, -1.10562395, ...,  1.        ,\n",
              "         0.        ,  0.        ],\n",
              "       [ 1.41901117,  1.39611031, -0.73326097, ...,  0.        ,\n",
              "         0.        ,  1.        ]])"
            ]
          },
          "metadata": {},
          "execution_count": 9
        }
      ]
    },
    {
      "cell_type": "code",
      "source": [
        "ihdp['x'][0]"
      ],
      "metadata": {
        "colab": {
          "base_uri": "https://localhost:8080/"
        },
        "id": "4tFX9ZVA9wBD",
        "outputId": "e04cdcee-9052-44d6-9c28-1f05fae6a46e"
      },
      "execution_count": null,
      "outputs": [
        {
          "output_type": "execute_result",
          "data": {
            "text/plain": [
              "array([ 1.39739503,  0.99634625, -1.10562395, -0.87960599,  0.30856884,\n",
              "       -1.02340239,  1.        ,  0.        ,  0.        ,  0.        ,\n",
              "        1.        ,  0.        ,  1.        ,  1.        ,  0.        ,\n",
              "        0.        ,  1.        ,  1.        ,  0.        ,  0.        ,\n",
              "        0.        ,  0.        ,  0.        ,  0.        ,  1.        ])"
            ]
          },
          "metadata": {},
          "execution_count": 10
        }
      ]
    },
    {
      "cell_type": "code",
      "source": [
        "jobs.files"
      ],
      "metadata": {
        "id": "KD-23DkBGkZ1",
        "colab": {
          "base_uri": "https://localhost:8080/"
        },
        "outputId": "477775c5-1116-478f-fa2a-b6dda75657e9"
      },
      "execution_count": null,
      "outputs": [
        {
          "output_type": "execute_result",
          "data": {
            "text/plain": [
              "['x', 't', 'y', 'e']"
            ]
          },
          "metadata": {},
          "execution_count": 11
        }
      ]
    },
    {
      "cell_type": "code",
      "source": [
        "for f in jobs.files:\n",
        "  print(f'{f}: {jobs[f].shape}')"
      ],
      "metadata": {
        "id": "T5vsctbqIjge",
        "colab": {
          "base_uri": "https://localhost:8080/"
        },
        "outputId": "deecddd7-795e-4b95-8a07-b970ea1ce4a6"
      },
      "execution_count": null,
      "outputs": [
        {
          "output_type": "stream",
          "name": "stdout",
          "text": [
            "x: (3212, 17)\n",
            "t: (3212, 1)\n",
            "y: (3212, 1)\n",
            "e: (3212, 1)\n"
          ]
        }
      ]
    },
    {
      "cell_type": "code",
      "source": [
        "for i in range(6):\n",
        "  print(np.mean(jobs['x'][:,i]))"
      ],
      "metadata": {
        "colab": {
          "base_uri": "https://localhost:8080/"
        },
        "id": "I5osDIIA-IO9",
        "outputId": "e620ca2b-a2f9-428c-9184-280e249707db"
      },
      "execution_count": null,
      "outputs": [
        {
          "output_type": "stream",
          "name": "stdout",
          "text": [
            "2.013056941287955e-16\n",
            "-1.880327912192046e-16\n",
            "0.3742216687422167\n",
            "0.04887920298879203\n",
            "0.7079701120797012\n",
            "0.411892901618929\n"
          ]
        }
      ]
    },
    {
      "cell_type": "code",
      "source": [
        "x_ihdp_flat = ihdp['x'].reshape(-1,1)\n",
        "x_ihdp = ihdp['x']\n",
        "t_ihdp = ihdp['t'].reshape(-1,1)\n",
        "yf_ihdp = ihdp['yf'].reshape(-1,1)\n",
        "ycf_ihdp = ihdp['ycf'].reshape(-1,1)\n",
        "ite_ihdp = ihdp['ite']"
      ],
      "metadata": {
        "id": "I-4GnDl-k-67"
      },
      "execution_count": null,
      "outputs": []
    },
    {
      "cell_type": "code",
      "source": [
        "nan_ihdp = np.isnan(ihdp['x'])\n",
        "nan_ihdp.any()"
      ],
      "metadata": {
        "colab": {
          "base_uri": "https://localhost:8080/"
        },
        "id": "DTatD9YB_GCp",
        "outputId": "0a79baaa-541d-4603-c7ee-21bfa9b3a0b1"
      },
      "execution_count": null,
      "outputs": [
        {
          "output_type": "execute_result",
          "data": {
            "text/plain": [
              "False"
            ]
          },
          "metadata": {},
          "execution_count": 15
        }
      ]
    },
    {
      "cell_type": "code",
      "metadata": {
        "id": "72uhd6sQ-od7",
        "colab": {
          "base_uri": "https://localhost:8080/",
          "height": 267
        },
        "outputId": "9ce5ce07-caa1-47e6-c4ce-804ad9b0f7b9"
      },
      "source": [
        "bins=100\n",
        "fig, axs = plt.subplots(1, 5, figsize=(16, 4))\n",
        "axs[0].hist(x_ihdp, bins=bins)\n",
        "axs[1].hist(t_ihdp, bins=bins)\n",
        "axs[2].hist(yf_ihdp, bins=bins)\n",
        "axs[3].hist(ycf_ihdp, bins=bins)\n",
        "axs[4].hist(ite_ihdp, bins=bins)\n",
        "plt.show()"
      ],
      "execution_count": null,
      "outputs": [
        {
          "output_type": "display_data",
          "data": {
            "text/plain": [
              "<Figure size 1152x288 with 5 Axes>"
            ],
            "image/png": "[encoded data removed]"
          },
          "metadata": {
            "needs_background": "light"
          }
        }
      ]
    },
    {
      "cell_type": "code",
      "source": [
        "bins=100\n",
        "fig, axs = plt.subplots(1, 6, figsize=(20, 4))\n",
        "axs[0].hist(x_ihdp[:,0], bins=bins)\n",
        "axs[1].hist(x_ihdp[:,1], bins=bins)\n",
        "axs[2].hist(x_ihdp[:,2], bins=bins)\n",
        "axs[3].hist(x_ihdp[:,3], bins=bins)\n",
        "axs[4].hist(x_ihdp[:,4], bins=bins)\n",
        "axs[5].hist(x_ihdp[:,5], bins=bins)\n",
        "plt.show()"
      ],
      "metadata": {
        "id": "mP1OEgHU6wSo",
        "colab": {
          "base_uri": "https://localhost:8080/",
          "height": 234
        },
        "outputId": "3470bfad-6c02-4cf5-c4d1-3e67fe0eb317"
      },
      "execution_count": null,
      "outputs": [
        {
          "output_type": "display_data",
          "data": {
            "text/plain": [
              "<Figure size 1440x288 with 6 Axes>"
            ],
            "image/png": "[encoded data removed]"
          },
          "metadata": {
            "needs_background": "light"
          }
        }
      ]
    },
    {
      "cell_type": "code",
      "source": [
        "bins=20\n",
        "fig, axs = plt.subplots(1, 4, figsize=(20, 4))\n",
        "axs[0].hist(x_ihdp[:,6], bins=bins)\n",
        "axs[1].hist(x_ihdp[:,7], bins=bins)\n",
        "axs[2].hist(x_ihdp[:,8], bins=bins)\n",
        "axs[3].hist(x_ihdp[:,9], bins=bins)\n",
        "plt.show()"
      ],
      "metadata": {
        "colab": {
          "base_uri": "https://localhost:8080/",
          "height": 237
        },
        "id": "920WyJyMgQpN",
        "outputId": "816b6dce-53ce-42b3-a8c8-0615635ff35e"
      },
      "execution_count": null,
      "outputs": [
        {
          "output_type": "display_data",
          "data": {
            "text/plain": [
              "<Figure size 1440x288 with 4 Axes>"
            ],
            "image/png": "[encoded data removed]"
          },
          "metadata": {
            "needs_background": "light"
          }
        }
      ]
    },
    {
      "cell_type": "code",
      "source": [
        "bins=20\n",
        "fig, axs = plt.subplots(1, 5, figsize=(20, 4))\n",
        "axs[0].hist(x_ihdp[:,10], bins=bins)\n",
        "axs[1].hist(x_ihdp[:,11], bins=bins)\n",
        "axs[2].hist(x_ihdp[:,12], bins=bins)\n",
        "axs[3].hist(x_ihdp[:,13], bins=bins)\n",
        "axs[4].hist(x_ihdp[:,14], bins=bins)\n",
        "plt.show()"
      ],
      "metadata": {
        "colab": {
          "base_uri": "https://localhost:8080/",
          "height": 237
        },
        "outputId": "42650f8b-9d42-4242-8984-66f5aa5d7549",
        "id": "KfcboV-Q7GhF"
      },
      "execution_count": null,
      "outputs": [
        {
          "output_type": "display_data",
          "data": {
            "text/plain": [
              "<Figure size 1440x288 with 5 Axes>"
            ],
            "image/png": "[encoded data removed]"
          },
          "metadata": {
            "needs_background": "light"
          }
        }
      ]
    },
    {
      "cell_type": "code",
      "source": [
        "bins=20\n",
        "fig, axs = plt.subplots(1, 5, figsize=(20, 4))\n",
        "axs[0].hist(x_ihdp[:,15], bins=bins)\n",
        "axs[1].hist(x_ihdp[:,16], bins=bins)\n",
        "axs[2].hist(x_ihdp[:,17], bins=bins)\n",
        "axs[3].hist(x_ihdp[:,18], bins=bins)\n",
        "axs[4].hist(x_ihdp[:,19], bins=bins)\n",
        "plt.show()"
      ],
      "metadata": {
        "colab": {
          "base_uri": "https://localhost:8080/",
          "height": 235
        },
        "outputId": "b436b0d2-49e0-4b6a-e97e-626ad8bd69d0",
        "id": "ZS1B6qKG7aPy"
      },
      "execution_count": null,
      "outputs": [
        {
          "output_type": "display_data",
          "data": {
            "text/plain": [
              "<Figure size 1440x288 with 5 Axes>"
            ],
            "image/png": "[encoded data removed]"
          },
          "metadata": {
            "needs_background": "light"
          }
        }
      ]
    },
    {
      "cell_type": "code",
      "source": [
        "bins=20\n",
        "fig, axs = plt.subplots(1, 5, figsize=(20, 4))\n",
        "axs[0].hist(x_ihdp[:,20], bins=bins)\n",
        "axs[1].hist(x_ihdp[:,21], bins=bins)\n",
        "axs[2].hist(x_ihdp[:,22], bins=bins)\n",
        "axs[3].hist(x_ihdp[:,23], bins=bins)\n",
        "axs[4].hist(x_ihdp[:,24], bins=bins)\n",
        "plt.show()"
      ],
      "metadata": {
        "colab": {
          "base_uri": "https://localhost:8080/",
          "height": 235
        },
        "outputId": "009dfe68-277d-4e3e-96dd-79ba7a258fe8",
        "id": "vHLnPSF17uOX"
      },
      "execution_count": null,
      "outputs": [
        {
          "output_type": "display_data",
          "data": {
            "text/plain": [
              "<Figure size 1440x288 with 5 Axes>"
            ],
            "image/png": "[encoded data removed]"
          },
          "metadata": {
            "needs_background": "light"
          }
        }
      ]
    },
    {
      "cell_type": "code",
      "source": [
        "x_jobs_flat = jobs['x'].reshape(-1,1)\n",
        "x_jobs = jobs['x']\n",
        "t_jobs = jobs['t'].reshape(-1,1)\n",
        "y_jobs = jobs['y'].reshape(-1,1)\n",
        "e_jobs = jobs['e'].reshape(-1,1)"
      ],
      "metadata": {
        "id": "YsA9jx3ise5z"
      },
      "execution_count": null,
      "outputs": []
    },
    {
      "cell_type": "code",
      "source": [
        "jobs['x'][0]"
      ],
      "metadata": {
        "colab": {
          "base_uri": "https://localhost:8080/"
        },
        "id": "gJJIU6yXj16G",
        "outputId": "ad70de20-a14b-4a5b-edb1-d9a875760e83"
      },
      "execution_count": null,
      "outputs": [
        {
          "output_type": "execute_result",
          "data": {
            "text/plain": [
              "array([-0.61428209,  1.46472657,  0.        ,  0.        ,  1.        ,\n",
              "        0.        ,  2.39325   ,  2.74619647, -0.65331121, -0.65691271,\n",
              "        1.62753104,  2.46233663,  2.93724407,  0.        ,  0.        ,\n",
              "        2.84390896,  0.        ])"
            ]
          },
          "metadata": {},
          "execution_count": 23
        }
      ]
    },
    {
      "cell_type": "code",
      "source": [
        "bins=20\n",
        "fig, axs = plt.subplots(1, 4, figsize=(20, 4))\n",
        "axs[0].hist(x_jobs, bins=bins)\n",
        "axs[0].set_title('x_jobs')\n",
        "axs[1].hist(t_jobs, bins=bins)\n",
        "axs[1].set_title('t_jobs')\n",
        "axs[2].hist(y_jobs, bins=bins)\n",
        "axs[2].set_title('y_jobs')\n",
        "axs[3].hist(e_jobs, bins=bins)\n",
        "axs[3].set_title('e_jobs')\n",
        "plt.show()"
      ],
      "metadata": {
        "id": "ie-n1d3m1dQ1",
        "colab": {
          "base_uri": "https://localhost:8080/",
          "height": 248
        },
        "outputId": "6e0f3f40-894e-49b8-8035-5986ea7a8381"
      },
      "execution_count": null,
      "outputs": [
        {
          "output_type": "display_data",
          "data": {
            "text/plain": [
              "<Figure size 1440x288 with 4 Axes>"
            ],
            "image/png": "[encoded data removed]"
          },
          "metadata": {
            "needs_background": "light"
          }
        }
      ]
    },
    {
      "cell_type": "code",
      "source": [
        "bins=100\n",
        "fig, axs = plt.subplots(1, 5, figsize=(20, 4))\n",
        "axs[0].hist(x_jobs[:,0], bins=bins)\n",
        "axs[1].hist(x_jobs[:,1], bins=bins)\n",
        "axs[2].hist(x_jobs[:,6], bins=bins)\n",
        "axs[3].hist(x_jobs[:,7], bins=bins)\n",
        "axs[4].hist(x_jobs[:,8], bins=bins)\n",
        "plt.show()"
      ],
      "metadata": {
        "colab": {
          "base_uri": "https://localhost:8080/",
          "height": 235
        },
        "outputId": "6e45f74b-023a-4298-dbf7-4e0bcf226c7b",
        "id": "17UTOIvw5gKD"
      },
      "execution_count": null,
      "outputs": [
        {
          "output_type": "display_data",
          "data": {
            "text/plain": [
              "<Figure size 1440x288 with 5 Axes>"
            ],
            "image/png": "[encoded data removed]"
          },
          "metadata": {
            "needs_background": "light"
          }
        }
      ]
    },
    {
      "cell_type": "code",
      "source": [
        "bins=100\n",
        "fig, axs = plt.subplots(1, 5, figsize=(20, 4))\n",
        "axs[0].hist(x_jobs[:,9], bins=bins)\n",
        "axs[1].hist(x_jobs[:,10], bins=bins)\n",
        "axs[2].hist(x_jobs[:,11], bins=bins)\n",
        "axs[3].hist(x_jobs[:,12], bins=bins)\n",
        "axs[4].hist(x_jobs[:,15], bins=bins)\n",
        "plt.show()"
      ],
      "metadata": {
        "colab": {
          "base_uri": "https://localhost:8080/",
          "height": 236
        },
        "outputId": "be593a54-f2e4-471a-bde1-ffa55c953ce1",
        "id": "Et24evt86UHT"
      },
      "execution_count": null,
      "outputs": [
        {
          "output_type": "display_data",
          "data": {
            "text/plain": [
              "<Figure size 1440x288 with 5 Axes>"
            ],
            "image/png": "[encoded data removed]"
          },
          "metadata": {
            "needs_background": "light"
          }
        }
      ]
    },
    {
      "cell_type": "code",
      "source": [
        "bins=20\n",
        "fig, axs = plt.subplots(1, 7, figsize=(20, 4))\n",
        "axs[0].hist(x_jobs[:,2], bins=bins)\n",
        "axs[1].hist(x_jobs[:,3], bins=bins)\n",
        "axs[2].hist(x_jobs[:,4], bins=bins)\n",
        "axs[3].hist(x_jobs[:,5], bins=bins)\n",
        "axs[4].hist(x_jobs[:,13], bins=bins)\n",
        "axs[5].hist(x_jobs[:,14], bins=bins)\n",
        "axs[6].hist(x_jobs[:,16], bins=bins)\n",
        "plt.show()"
      ],
      "metadata": {
        "colab": {
          "base_uri": "https://localhost:8080/",
          "height": 233
        },
        "outputId": "4b3d577f-b34a-4b38-e8fd-45b905804c28",
        "id": "pC1xutyC8GE6"
      },
      "execution_count": null,
      "outputs": [
        {
          "output_type": "display_data",
          "data": {
            "text/plain": [
              "<Figure size 1440x288 with 7 Axes>"
            ],
            "image/png": "[encoded data removed]"
          },
          "metadata": {
            "needs_background": "light"
          }
        }
      ]
    },
    {
      "cell_type": "code",
      "source": [
        "nan_jobs=np.isnan(jobs['x'])\n",
        "nan_jobs.any()"
      ],
      "metadata": {
        "colab": {
          "base_uri": "https://localhost:8080/"
        },
        "id": "F4vr8Sd52eGV",
        "outputId": "3bff8a96-4f30-429c-c5fe-37b61139bc7f"
      },
      "execution_count": null,
      "outputs": [
        {
          "output_type": "execute_result",
          "data": {
            "text/plain": [
              "False"
            ]
          },
          "metadata": {},
          "execution_count": 28
        }
      ]
    },
    {
      "cell_type": "code",
      "source": [
        "def abs_ate(effect_true, effect_pred):\n",
        "    \"\"\"\n",
        "    Absolute error for the Average Treatment Effect (ATE)\n",
        "    :param effect_true: true treatment effect value\n",
        "    :param effect_pred: predicted treatment effect value\n",
        "    :return: absolute error on ATE\n",
        "    \"\"\"\n",
        "    \n",
        "    ate = np.abs(np.mean(effect_true)-np.mean(effect_pred))\n",
        "    return ate\n",
        "    \n",
        "\n",
        "def pehe(effect_true, effect_pred):\n",
        "    \"\"\"\n",
        "    Precision in Estimating the Heterogeneous Treatment Effect (PEHE)\n",
        "    :param effect_true: true treatment effect value\n",
        "    :param effect_pred: predicted treatment effect value\n",
        "    :return: PEHE\n",
        "    \"\"\"\n",
        "    \n",
        "    a = np.sqrt(np.mean((effect_true-effect_pred)**2))\n",
        "    return a"
      ],
      "metadata": {
        "id": "n2noo3rieGQY"
      },
      "execution_count": null,
      "outputs": []
    },
    {
      "cell_type": "code",
      "source": [
        "x_jobs_train, x_jobs_test, t_jobs_train, t_jobs_test, y_jobs_train, y_jobs_test, e_jobs_train, e_jobs_test = train_test_split(jobs['x'], t_jobs, y_jobs, e_jobs, test_size=0.2)\n",
        "\n",
        "scaler_x = StandardScaler()\n",
        "x_jobs_train = scaler_x.fit_transform(x_jobs_train)\n",
        "x_jobs_test = scaler_x.transform(x_jobs_test)"
      ],
      "metadata": {
        "id": "a-yJI64HJbJH"
      },
      "execution_count": null,
      "outputs": []
    },
    {
      "cell_type": "markdown",
      "source": [
        "Random Forest"
      ],
      "metadata": {
        "id": "G8EVaCIYU3ir"
      }
    },
    {
      "cell_type": "code",
      "metadata": {
        "id": "r-u0hCF1vhQ2"
      },
      "source": [
        "# Random Forest with default parameters.\n",
        "rf = RandomForestRegressor()\n",
        "\n",
        "# Train on the training data.\n",
        "# In the supervised setting, our usual X here consists of X and T.\n",
        "# The target is Y - the outcome.\n",
        "# Input: [X, T], output: Y.\n",
        "# Hint: use np.concatenate or np.hstack functions to merge X and T.\n",
        "xte_jobs = np.concatenate([x_jobs,t_jobs,e_jobs],axis=1)\n",
        "\n",
        "xte_jobs_train = np.concatenate([x_jobs_train,t_jobs_train,e_jobs_train],axis=1)\n",
        "xte_jobs_test = np.concatenate([x_jobs_test,t_jobs_test,e_jobs_test],axis=1)\n",
        "\n",
        "rf.fit(xte_jobs_train,y_jobs_train.flatten())\n",
        "\n",
        "# Predictions\n",
        "# Note we set T to a specific value for ALL individuals.\n",
        "# These are interventional distributions - P(Y|X, do(T=t)).\n",
        "\n",
        "# Predict Y_0 given [X, 0]\n",
        "# Hint: use np.zeros_like or np.zeros functions to get the zeros for all units.\n",
        "# Hint 2: you still have to merge X and zeros (see training above).\n",
        "xte0_jobs_test =  np.concatenate([x_jobs_test,np.zeros((643,1)),e_jobs_test],axis=1)\n",
        "\n",
        "rf_y0_jobs_test = rf.predict(xte0_jobs_test)\n",
        "\n",
        "# Predict Y_1 given [X, 1]\n",
        "# Hint: use np.ones_like or np.ones functions to get the ones for all units.\n",
        "# Hint 2: you still have to merge X and ones (see training above).\n",
        "xte1_jobs_test = np.concatenate([x_jobs_test,np.ones((643,1)),e_jobs_test],axis=1)\n",
        "\n",
        "rf_y1_jobs_test = rf.predict(xte1_jobs_test)\n",
        "\n",
        "# Compute ITEs\n",
        "# ITE = Y_1 - Y_0\n",
        "rf_te_jobs_test = rf_y1_jobs_test - rf_y0_jobs_test\n"
      ],
      "execution_count": null,
      "outputs": []
    },
    {
      "cell_type": "code",
      "source": [
        "np.mean(rf_te_jobs_test)"
      ],
      "metadata": {
        "id": "5A9at_DnILyn",
        "colab": {
          "base_uri": "https://localhost:8080/",
          "height": 37
        },
        "outputId": "12259f2c-018c-4c55-9a68-c82bf105b3a9"
      },
      "execution_count": null,
      "outputs": [
        {
          "output_type": "execute_result",
          "data": {
            "text/plain": [
              "-0.0013625198889584593"
            ],
            "image/png": "[encoded data removed]",
            "text/latex": "$\\displaystyle -0.00136251988895846$"
          },
          "metadata": {},
          "execution_count": 32
        }
      ]
    },
    {
      "cell_type": "code",
      "source": [
        "rf_disc = {\n",
        "    'n_estimators' : [100,150,200,250,300]\n",
        "}"
      ],
      "metadata": {
        "id": "4WbkhG4_Hg7i"
      },
      "execution_count": null,
      "outputs": []
    },
    {
      "cell_type": "code",
      "source": [
        "rf_best = GridSearchCV(RandomForestRegressor(),param_grid=rf_disc)\n",
        "rf_best.fit(xte_jobs_train,y_jobs_train.flatten())"
      ],
      "metadata": {
        "colab": {
          "base_uri": "https://localhost:8080/"
        },
        "id": "yRyC0i2zGJgp",
        "outputId": "17930a46-eb38-4bba-8571-533973743ef9"
      },
      "execution_count": null,
      "outputs": [
        {
          "output_type": "execute_result",
          "data": {
            "text/plain": [
              "GridSearchCV(estimator=RandomForestRegressor(),\n",
              "             param_grid={'n_estimators': [100, 150, 200, 250, 300]})"
            ]
          },
          "metadata": {},
          "execution_count": 34
        }
      ]
    },
    {
      "cell_type": "code",
      "source": [
        "sorted(rf_best.cv_results_.keys())"
      ],
      "metadata": {
        "colab": {
          "base_uri": "https://localhost:8080/"
        },
        "id": "hTHycUAYJXHK",
        "outputId": "674f48b2-c378-47fa-a912-537d09832f91"
      },
      "execution_count": null,
      "outputs": [
        {
          "output_type": "execute_result",
          "data": {
            "text/plain": [
              "['mean_fit_time',\n",
              " 'mean_score_time',\n",
              " 'mean_test_score',\n",
              " 'param_n_estimators',\n",
              " 'params',\n",
              " 'rank_test_score',\n",
              " 'split0_test_score',\n",
              " 'split1_test_score',\n",
              " 'split2_test_score',\n",
              " 'split3_test_score',\n",
              " 'split4_test_score',\n",
              " 'std_fit_time',\n",
              " 'std_score_time',\n",
              " 'std_test_score']"
            ]
          },
          "metadata": {},
          "execution_count": 35
        }
      ]
    },
    {
      "cell_type": "code",
      "source": [
        "rf_best.cv_results_"
      ],
      "metadata": {
        "colab": {
          "base_uri": "https://localhost:8080/"
        },
        "id": "Utv-dNbyK-HF",
        "outputId": "0fc81c0a-63ee-41a1-ed30-a9e32f3e1fd9"
      },
      "execution_count": null,
      "outputs": [
        {
          "output_type": "execute_result",
          "data": {
            "text/plain": [
              "{'mean_fit_time': array([0.84642549, 1.26573443, 1.66160388, 2.06588273, 2.48472986]),\n",
              " 'mean_score_time': array([0.01671214, 0.02298212, 0.03056011, 0.03647757, 0.04503722]),\n",
              " 'mean_test_score': array([0.21135287, 0.21292161, 0.21639125, 0.21909794, 0.21275416]),\n",
              " 'param_n_estimators': masked_array(data=[100, 150, 200, 250, 300],\n",
              "              mask=[False, False, False, False, False],\n",
              "        fill_value='?',\n",
              "             dtype=object),\n",
              " 'params': [{'n_estimators': 100},\n",
              "  {'n_estimators': 150},\n",
              "  {'n_estimators': 200},\n",
              "  {'n_estimators': 250},\n",
              "  {'n_estimators': 300}],\n",
              " 'rank_test_score': array([5, 3, 2, 1, 4], dtype=int32),\n",
              " 'split0_test_score': array([0.21565419, 0.21372623, 0.21742486, 0.21908174, 0.21126141]),\n",
              " 'split1_test_score': array([0.11436949, 0.1255914 , 0.12732846, 0.12632512, 0.11864471]),\n",
              " 'split2_test_score': array([0.28138998, 0.28881814, 0.28061468, 0.29302491, 0.28964541]),\n",
              " 'split3_test_score': array([0.21175305, 0.20501842, 0.2160545 , 0.213259  , 0.20799554]),\n",
              " 'split4_test_score': array([0.23359765, 0.23145387, 0.24053375, 0.24379892, 0.23622375]),\n",
              " 'std_fit_time': array([0.01275503, 0.01756187, 0.03766965, 0.04518929, 0.02726873]),\n",
              " 'std_score_time': array([0.0015105 , 0.00094779, 0.00139024, 0.00099884, 0.00133834]),\n",
              " 'std_test_score': array([0.05445083, 0.05252314, 0.05028095, 0.05425168, 0.05539774])}"
            ]
          },
          "metadata": {},
          "execution_count": 36
        }
      ]
    },
    {
      "cell_type": "code",
      "source": [
        "strtfdKFold = StratifiedKFold(n_splits=10)\n",
        "pipeline = make_pipeline(RandomForestRegressor(n_estimators=200))\n",
        "kfold = strtfdKFold.split(x_jobs, y_jobs)\n",
        "scores = []\n",
        "for k, (train, test) in enumerate(kfold):\n",
        "    pipeline.fit(x_jobs[train], y_jobs[train].flatten())\n",
        "    score = pipeline.score(x_jobs[test], y_jobs[test].flatten())\n",
        "    scores.append(score)\n",
        "    print('Fold: %2d, Training/Test Split Distribution: %s, Accuracy: %.3f' % (k+1, np.bincount(y_jobs[test].flatten()), score))\n",
        "print('\\n\\nCross-Validation accuracy: %.3f +/- %.3f' %(np.mean(scores), np.std(scores)))"
      ],
      "metadata": {
        "id": "-8gAxtURpynA",
        "colab": {
          "base_uri": "https://localhost:8080/"
        },
        "outputId": "fcddcffe-bb46-4d23-d742-48a17a6abc05"
      },
      "execution_count": null,
      "outputs": [
        {
          "output_type": "stream",
          "name": "stdout",
          "text": [
            "Fold:  1, Training/Test Split Distribution: [ 49 273], Accuracy: 0.178\n",
            "Fold:  2, Training/Test Split Distribution: [ 49 273], Accuracy: 0.272\n",
            "Fold:  3, Training/Test Split Distribution: [ 48 273], Accuracy: 0.224\n",
            "Fold:  4, Training/Test Split Distribution: [ 48 273], Accuracy: 0.249\n",
            "Fold:  5, Training/Test Split Distribution: [ 48 273], Accuracy: 0.181\n",
            "Fold:  6, Training/Test Split Distribution: [ 48 273], Accuracy: 0.088\n",
            "Fold:  7, Training/Test Split Distribution: [ 48 273], Accuracy: 0.165\n",
            "Fold:  8, Training/Test Split Distribution: [ 48 273], Accuracy: 0.234\n",
            "Fold:  9, Training/Test Split Distribution: [ 48 273], Accuracy: 0.277\n",
            "Fold: 10, Training/Test Split Distribution: [ 48 273], Accuracy: 0.226\n",
            "\n",
            "\n",
            "Cross-Validation accuracy: 0.209 +/- 0.054\n"
          ]
        }
      ]
    },
    {
      "cell_type": "markdown",
      "source": [
        "IPW"
      ],
      "metadata": {
        "id": "Y6GSPFPUF98d"
      }
    },
    {
      "cell_type": "code",
      "metadata": {
        "id": "wMTSqYIewYX5"
      },
      "source": [
        "def get_ps_weights(clf, x, t):\n",
        "  ti = np.squeeze(t)\n",
        "  clf.fit(x, ti)\n",
        "  ptx = clf.predict_proba(x).T[1].T + 0.0001 # add a small value to avoid dividing by 0\n",
        "  # Given ti and ptx values, compute the weights wi (see formula above):\n",
        "  wi = (ti/ptx) + (1-ti)/(1-ptx)\n",
        "\n",
        "  return wi"
      ],
      "execution_count": null,
      "outputs": []
    },
    {
      "cell_type": "markdown",
      "source": [
        "Functions"
      ],
      "metadata": {
        "id": "j6-wMiMIDB_v"
      }
    },
    {
      "cell_type": "code",
      "source": [
        "def abs_att(effect_pred, yf, t, e):\n",
        "    \"\"\"\n",
        "    Absolute error for the Average Treatment Effect on the Treated\n",
        "    :param effect_pred: predicted treatment effect value\n",
        "    :param yf: factual (observed) outcome\n",
        "    :param t: treatment status (treated/control)\n",
        "    :param e: whether belongs to the experimental group\n",
        "    :return: absolute error on ATT\n",
        "    \"\"\"\n",
        "    att_true = np.mean(yf[t > 0]) - np.mean(yf[(1 - t + e) > 1])\n",
        "    att_pred = np.mean(effect_pred[(t + e) > 1])\n",
        "\n",
        "    return np.abs(att_pred - att_true)\n",
        "\n",
        "def policy_risk(effect_pred, yf, t, e):\n",
        "    \"\"\"\n",
        "    Computes the risk of the policy defined by predicted effect\n",
        "    :param effect_pred: predicted treatment effect value\n",
        "    :param yf: factual (observed) outcome\n",
        "    :param t: treatment status (treated/control)\n",
        "    :param e: whether belongs to the experimental group\n",
        "    :return: policy risk\n",
        "    \"\"\"\n",
        "    # Consider only the cases for which we have experimental data (i.e., e > 0)\n",
        "    t_e = t[e > 0]\n",
        "    yf_e = yf[e > 0]\n",
        "    effect_pred_e = effect_pred[e > 0]\n",
        "\n",
        "    if np.any(np.isnan(effect_pred_e)):\n",
        "        return np.nan\n",
        "\n",
        "    policy = effect_pred_e > 0.0\n",
        "    treat_overlap = (policy == t_e) * (t_e > 0)\n",
        "    control_overlap = (policy == t_e) * (t_e < 1)\n",
        "\n",
        "    if np.sum(treat_overlap) == 0:\n",
        "        treat_value = 0\n",
        "    else:\n",
        "        treat_value = np.mean(yf_e[treat_overlap])\n",
        "\n",
        "    if np.sum(control_overlap) == 0:\n",
        "        control_value = 0\n",
        "    else:\n",
        "        control_value = np.mean(yf_e[control_overlap])\n",
        "\n",
        "    pit = np.mean(policy)\n",
        "    policy_value = pit * treat_value + (1.0 - pit) * control_value\n",
        "\n",
        "    return 1.0 - policy_value\n",
        "def abs_ate(effect_true, effect_pred):\n",
        "    # 1. Obtain true ATE by getting the mean of true ITEs.\n",
        "    # 2. Obtain predicted ATE by getting the mean of predicted ITEs.\n",
        "    # 3. Calculate the difference between the true and predicted ATEs.\n",
        "    # 4. Calculate the absolute value of the difference obtained in the previous step.\n",
        "    # Hint: Keep your code concise (this can be done in one line of code).\n",
        "    ## Your code goes here\n",
        "    a = np.abs(np.mean(effect_true) - np.mean(effect_pred))\n",
        "    return a\n",
        "def pehe(effect_true, effect_pred):\n",
        "    # 1. Obtain the difference between the true and predicted ITEs.\n",
        "    # 2. Square the result (power of 2).\n",
        "    # 3. Take the mean.\n",
        "    # 4. Take the square root.\n",
        "    # Hint: Keep your code concise (this can be done in one line of code).\n",
        "    ## Your code goes here\n",
        "    a = np.sqrt(np.mean((effect_true-effect_pred)**2))\n",
        "    return a"
      ],
      "metadata": {
        "id": "8Umh04GVv8dQ"
      },
      "execution_count": null,
      "outputs": []
    },
    {
      "cell_type": "code",
      "metadata": {
        "id": "tfguw3FCwmYz"
      },
      "source": [
        "# Get the sample weights\n",
        "prop_clf = RandomForestClassifier()\n",
        "weights = get_ps_weights(prop_clf, x_jobs_train, t_jobs_train)\n",
        "\n",
        "# Train the regressor\n",
        "rf_ipsw = RandomForestRegressor()\n",
        "\n",
        "rf_ipsw.fit(xte_jobs_train, y_jobs_train.flatten())\n",
        "\n",
        "xte0_jobs_train = np.concatenate([x_jobs_train,np.zeros((2569,1)),e_jobs_train],axis=1)\n",
        "xte1_jobs_train = np.concatenate([x_jobs_train,np.ones((2569,1)),e_jobs_train],axis=1)\n",
        "# Make predictions\n",
        "rf_ipsw_y0_test = rf_ipsw.predict(xte0_jobs_test)\n",
        "rf_ipsw_y1_test = rf_ipsw.predict(xte1_jobs_test)\n",
        "\n",
        "# Compute ITEs\n",
        "rf_ipsw_te_test = rf_ipsw_y1_test - rf_ipsw_y0_test"
      ],
      "execution_count": null,
      "outputs": []
    },
    {
      "cell_type": "code",
      "metadata": {
        "id": "4IWeKlOOvQfy",
        "colab": {
          "base_uri": "https://localhost:8080/"
        },
        "outputId": "463974d3-65af-4751-b333-4985b371fc93"
      },
      "source": [
        "# X-Learner\n",
        "xl_jobs = XLearner(models=RandomForestRegressor(), propensity_model=RandomForestClassifier())\n",
        "xl_jobs.fit(y_jobs_train, t_jobs_train.flatten(), X=x_jobs_train)\n",
        "\n",
        "xl_jobs_te_test = xl_jobs.effect(x_jobs_test)\n",
        "print(xl_jobs.ate(x_jobs_test))"
      ],
      "execution_count": null,
      "outputs": [
        {
          "output_type": "stream",
          "name": "stderr",
          "text": [
            "Function get_feature_names is deprecated; get_feature_names is deprecated in 1.0 and will be removed in 1.2. Please use get_feature_names_out instead.\n"
          ]
        },
        {
          "output_type": "stream",
          "name": "stdout",
          "text": [
            "[0.06580875]\n"
          ]
        }
      ]
    },
    {
      "cell_type": "code",
      "source": [
        "#linear regression\n",
        "from sklearn.linear_model import LinearRegression\n",
        "reg = LinearRegression().fit(xte_jobs_train,y_jobs_train)\n",
        "reg.predict(xte_jobs_test)\n",
        "print(reg.score(xte_jobs_test,y_jobs_test))"
      ],
      "metadata": {
        "colab": {
          "base_uri": "https://localhost:8080/"
        },
        "id": "vC7htB2iwFpe",
        "outputId": "2f4439db-531e-4e92-be71-c22f86018868"
      },
      "execution_count": null,
      "outputs": [
        {
          "output_type": "stream",
          "name": "stdout",
          "text": [
            "0.2001738694485089\n"
          ]
        }
      ]
    },
    {
      "cell_type": "code",
      "source": [
        "bins=100\n",
        "fig, axs = plt.subplots(1, 4, figsize=(20, 4))\n",
        "axs[0].hist(rf_ipsw_y0_test, bins=bins)\n",
        "axs[1].hist(rf_ipsw_y1_test, bins=bins)\n",
        "axs[2].hist(rf_ipsw_te_test, bins=bins)\n",
        "axs[3].hist(xl_jobs_te_test, bins=bins)\n",
        "plt.show()"
      ],
      "metadata": {
        "id": "eiyFEIMUO1mP",
        "colab": {
          "base_uri": "https://localhost:8080/",
          "height": 235
        },
        "outputId": "78cbf310-993c-4320-8c53-ed6f08aa07db"
      },
      "execution_count": null,
      "outputs": [
        {
          "output_type": "display_data",
          "data": {
            "text/plain": [
              "<Figure size 1440x288 with 4 Axes>"
            ],
            "image/png": "[encoded data removed]"
          },
          "metadata": {
            "needs_background": "light"
          }
        }
      ]
    },
    {
      "cell_type": "code",
      "source": [
        "rf_ipsw_best = GridSearchCV(RandomForestRegressor(),param_grid=rf_disc)\n",
        "rf_ipsw_best.fit(xte_jobs_train,y_jobs_train.flatten())\n",
        "rf_ipsw_best.cv_results_"
      ],
      "metadata": {
        "colab": {
          "base_uri": "https://localhost:8080/"
        },
        "id": "1Pb6lkwU-V1w",
        "outputId": "6967669e-b544-4d3d-87f4-35cc15ed6bb3"
      },
      "execution_count": null,
      "outputs": [
        {
          "output_type": "execute_result",
          "data": {
            "text/plain": [
              "{'mean_fit_time': array([0.9467761 , 1.24290524, 1.67029247, 2.07366786, 2.47031555]),\n",
              " 'mean_score_time': array([0.01739049, 0.02253509, 0.02952213, 0.03612952, 0.04720683]),\n",
              " 'mean_test_score': array([0.20814475, 0.21139614, 0.21090762, 0.21416497, 0.21590426]),\n",
              " 'param_n_estimators': masked_array(data=[100, 150, 200, 250, 300],\n",
              "              mask=[False, False, False, False, False],\n",
              "        fill_value='?',\n",
              "             dtype=object),\n",
              " 'params': [{'n_estimators': 100},\n",
              "  {'n_estimators': 150},\n",
              "  {'n_estimators': 200},\n",
              "  {'n_estimators': 250},\n",
              "  {'n_estimators': 300}],\n",
              " 'rank_test_score': array([5, 3, 4, 2, 1], dtype=int32),\n",
              " 'split0_test_score': array([0.2269856 , 0.22582012, 0.21230813, 0.21232539, 0.21520895]),\n",
              " 'split1_test_score': array([0.10832385, 0.11054964, 0.12242545, 0.1207358 , 0.12501203]),\n",
              " 'split2_test_score': array([0.27930124, 0.28441868, 0.27999878, 0.28273908, 0.29339267]),\n",
              " 'split3_test_score': array([0.20166188, 0.20246498, 0.21009227, 0.20818659, 0.21114216]),\n",
              " 'split4_test_score': array([0.22445119, 0.23372727, 0.22971349, 0.246838  , 0.23476547]),\n",
              " 'std_fit_time': array([0.13240951, 0.02159389, 0.03015115, 0.02384984, 0.04772536]),\n",
              " 'std_score_time': array([0.00410468, 0.00105954, 0.00106457, 0.00106   , 0.00519365]),\n",
              " 'std_test_score': array([0.0560185 , 0.0570768 , 0.05090967, 0.0539223 , 0.05411979])}"
            ]
          },
          "metadata": {},
          "execution_count": 67
        }
      ]
    },
    {
      "cell_type": "code",
      "source": [
        "strtfdKFold = StratifiedKFold(n_splits=10)\n",
        "pipeline = make_pipeline(StandardScaler(), RandomForestClassifier())\n",
        "kfold = strtfdKFold.split(xte_jobs, y_jobs.flatten())\n",
        "scores = []\n",
        "for k, (train, test) in enumerate(kfold):\n",
        "    pipeline.fit(xte_jobs[train], y_jobs[train].flatten())\n",
        "    score = pipeline.score(xte_jobs[test], y_jobs[test].flatten())\n",
        "    scores.append(score)\n",
        "    print('Fold: %2d, Training/Test Split Distribution: %s, Accuracy: %.3f' % (k+1, np.bincount(y_jobs[test].flatten()), score))\n",
        "print('\\n\\nCross-Validation accuracy: %.3f +/- %.3f' %(np.mean(scores), np.std(scores)))"
      ],
      "metadata": {
        "id": "mR11KTp1iEJJ",
        "colab": {
          "base_uri": "https://localhost:8080/"
        },
        "outputId": "218d2f1e-1c02-4435-f9cf-f8244e9c7863"
      },
      "execution_count": null,
      "outputs": [
        {
          "output_type": "stream",
          "name": "stdout",
          "text": [
            "Fold:  1, Training/Test Split Distribution: [ 49 273], Accuracy: 0.882\n",
            "Fold:  2, Training/Test Split Distribution: [ 49 273], Accuracy: 0.879\n",
            "Fold:  3, Training/Test Split Distribution: [ 48 273], Accuracy: 0.882\n",
            "Fold:  4, Training/Test Split Distribution: [ 48 273], Accuracy: 0.891\n",
            "Fold:  5, Training/Test Split Distribution: [ 48 273], Accuracy: 0.875\n",
            "Fold:  6, Training/Test Split Distribution: [ 48 273], Accuracy: 0.860\n",
            "Fold:  7, Training/Test Split Distribution: [ 48 273], Accuracy: 0.888\n",
            "Fold:  8, Training/Test Split Distribution: [ 48 273], Accuracy: 0.891\n",
            "Fold:  9, Training/Test Split Distribution: [ 48 273], Accuracy: 0.910\n",
            "Fold: 10, Training/Test Split Distribution: [ 48 273], Accuracy: 0.869\n",
            "\n",
            "\n",
            "Cross-Validation accuracy: 0.883 +/- 0.013\n"
          ]
        }
      ]
    },
    {
      "cell_type": "markdown",
      "source": [
        "CausalForestDML"
      ],
      "metadata": {
        "id": "wa_3JccE62SX"
      }
    },
    {
      "cell_type": "code",
      "source": [
        "from econml.dml import CausalForestDML\n",
        "est = CausalForestDML(model_y='auto',model_t='auto',cv=4)\n",
        "est.fit(y_jobs.flatten(), t_jobs, X=x_jobs ,W=e_jobs)\n",
        "print(est.ate(X=x_jobs))\n",
        "print(est.score(y_jobs.flatten(), t_jobs, X=x_jobs ,W=e_jobs))#MSE on data"
      ],
      "metadata": {
        "id": "oe4DFB6f64TG",
        "colab": {
          "base_uri": "https://localhost:8080/"
        },
        "outputId": "4e0f0a08-eb3b-4cce-fd77-725ec24af9d4"
      },
      "execution_count": null,
      "outputs": [
        {
          "output_type": "stream",
          "name": "stderr",
          "text": [
            "'normalize' was deprecated in version 1.0 and will be removed in 1.2. Please leave the normalize parameter to its default value to silence this warning. The default behavior of this estimator is to not do any normalization. If normalization is needed please use sklearn.preprocessing.StandardScaler instead.\n",
            "'normalize' was deprecated in version 1.0 and will be removed in 1.2. Please leave the normalize parameter to its default value to silence this warning. The default behavior of this estimator is to not do any normalization. If normalization is needed please use sklearn.preprocessing.StandardScaler instead.\n",
            "'normalize' was deprecated in version 1.0 and will be removed in 1.2. Please leave the normalize parameter to its default value to silence this warning. The default behavior of this estimator is to not do any normalization. If normalization is needed please use sklearn.preprocessing.StandardScaler instead.\n",
            "Objective did not converge. You might want to increase the number of iterations. Duality gap: 0.10829761883741185, tolerance: 0.025604151530876983\n",
            "'normalize' was deprecated in version 1.0 and will be removed in 1.2. Please leave the normalize parameter to its default value to silence this warning. The default behavior of this estimator is to not do any normalization. If normalization is needed please use sklearn.preprocessing.StandardScaler instead.\n",
            "Objective did not converge. You might want to increase the number of iterations. Duality gap: 0.03380355680749858, tolerance: 0.016966804979253146\n",
            "'normalize' was deprecated in version 1.0 and will be removed in 1.2. Please leave the normalize parameter to its default value to silence this warning. The default behavior of this estimator is to not do any normalization. If normalization is needed please use sklearn.preprocessing.StandardScaler instead.\n",
            "'normalize' was deprecated in version 1.0 and will be removed in 1.2. Please leave the normalize parameter to its default value to silence this warning. The default behavior of this estimator is to not do any normalization. If normalization is needed please use sklearn.preprocessing.StandardScaler instead.\n",
            "Objective did not converge. You might want to increase the number of iterations. Duality gap: 0.1389048030091118, tolerance: 0.015664763881681365\n",
            "'normalize' was deprecated in version 1.0 and will be removed in 1.2. Please leave the normalize parameter to its default value to silence this warning. The default behavior of this estimator is to not do any normalization. If normalization is needed please use sklearn.preprocessing.StandardScaler instead.\n",
            "Objective did not converge. You might want to increase the number of iterations. Duality gap: 0.026730496731715903, tolerance: 0.02428489880643483\n",
            "Objective did not converge. You might want to increase the number of iterations. Duality gap: 0.2553390785799081, tolerance: 0.02428489880643483\n",
            "Objective did not converge. You might want to increase the number of iterations. Duality gap: 0.6149640736298352, tolerance: 0.02428489880643483\n",
            "'normalize' was deprecated in version 1.0 and will be removed in 1.2. Please leave the normalize parameter to its default value to silence this warning. The default behavior of this estimator is to not do any normalization. If normalization is needed please use sklearn.preprocessing.StandardScaler instead.\n"
          ]
        },
        {
          "output_type": "stream",
          "name": "stdout",
          "text": [
            "0.2665758276081682\n",
            "0.09333598778683304\n"
          ]
        }
      ]
    },
    {
      "cell_type": "markdown",
      "source": [
        "ihdp"
      ],
      "metadata": {
        "id": "Bm9IPGj2jaBK"
      }
    },
    {
      "cell_type": "code",
      "source": [
        "x_ihdp_train, x_ihdp_test, t_ihdp_train, t_ihdp_test, yf_ihdp_train, yf_ihdp_test, ycf_ihdp_train, ycf_ihdp_test, ite_ihdp_train, ite_ihdp_test = train_test_split(x_ihdp, t_ihdp, yf_ihdp, ycf_ihdp, ite_ihdp, test_size=0.2)\n",
        "\n",
        "scaler_x = StandardScaler()\n",
        "x_ihdp_train = scaler_x.fit_transform(x_ihdp_train)\n",
        "x_ihdp_test = scaler_x.transform(x_ihdp_test)"
      ],
      "metadata": {
        "id": "02ulHi1RI9jF"
      },
      "execution_count": null,
      "outputs": []
    },
    {
      "cell_type": "code",
      "metadata": {
        "id": "6hM6BVFfIxIV"
      },
      "source": [
        "# Random Forest with default parameters.\n",
        "rf = RandomForestRegressor()\n",
        "\n",
        "# Train on the training data.\n",
        "# In the supervised setting, our usual X here consists of X and T.\n",
        "# The target is Y - the outcome.\n",
        "# Input: [X, T], output: Y.\n",
        "# Hint: use np.concatenate or np.hstack functions to merge X and T.\n",
        "\n",
        "xt_ihdp = np.concatenate([x_ihdp,t_ihdp],axis=1)\n",
        "xt_ihdp_train = np.concatenate([x_ihdp_train,t_ihdp_train],axis=1)\n",
        "\n",
        "rf.fit(xt_ihdp_train,yf_ihdp_train.flatten())\n",
        "\n",
        "# Predictions\n",
        "# Note we set T to a specific value for ALL individuals.\n",
        "# These are interventional distributions - P(Y|X, do(T=t)).\n",
        "\n",
        "# Predict Y_0 given [X, 0]\n",
        "# Hint: use np.zeros_like or np.zeros functions to get the zeros for all units.\n",
        "# Hint 2: you still have to merge X and zeros (see training above).\n",
        "xt0_ihdp_test =  np.concatenate([x_ihdp_test,np.zeros((150,1))],axis=1)\n",
        "\n",
        "rf_y0_ihdp_test = rf.predict(xt0_ihdp_test)\n",
        "\n",
        "# Predict Y_1 given [X, 1]\n",
        "# Hint: use np.ones_like or np.ones functions to get the ones for all units.\n",
        "# Hint 2: you still have to merge X and ones (see training above).\n",
        "xt1_ihdp_test = np.concatenate([x_ihdp_test,np.ones((150,1))],axis=1)\n",
        "\n",
        "rf_y1_ihdp_test = rf.predict(xt1_ihdp_test)\n",
        "\n",
        "# Compute ITEs\n",
        "# ITE = Y_1 - Y_0\n",
        "rf_te_ihdp_test = rf_y1_ihdp_test - rf_y0_ihdp_test\n"
      ],
      "execution_count": null,
      "outputs": []
    },
    {
      "cell_type": "code",
      "source": [
        ""
      ],
      "metadata": {
        "id": "RCJdSkHZ-MtC"
      },
      "execution_count": null,
      "outputs": []
    },
    {
      "cell_type": "code",
      "source": [
        "#use KFold to do the test\n",
        "KFold2 = KFold(n_splits=10)\n",
        "pipeline2 = make_pipeline(RandomForestRegressor())\n",
        "kfold2 = KFold2.split(xt_ihdp, yf_ihdp.flatten())\n",
        "scores2 = []\n",
        "for k, (train, test) in enumerate(kfold2):\n",
        "    pipeline2.fit(xt_ihdp[train], yf_ihdp[train].flatten())\n",
        "    score2 = pipeline2.score(xt_ihdp[test], yf_ihdp[test].flatten())\n",
        "    scores2.append(score2)\n",
        "    print('Fold: %2d, Accuracy: %.3f' % (k+1, score2))\n",
        "print('\\n\\nCross-Validation accuracy: %.3f +/- %.3f' %(np.mean(scores2), np.std(scores2)))"
      ],
      "metadata": {
        "id": "jsPBPxVg8amO",
        "colab": {
          "base_uri": "https://localhost:8080/"
        },
        "outputId": "33efdfb6-d553-40be-ed7d-6bede23d0fa6"
      },
      "execution_count": null,
      "outputs": [
        {
          "output_type": "stream",
          "name": "stdout",
          "text": [
            "Fold:  1, Accuracy: 0.809\n",
            "Fold:  2, Accuracy: 0.666\n",
            "Fold:  3, Accuracy: 0.783\n",
            "Fold:  4, Accuracy: 0.792\n",
            "Fold:  5, Accuracy: 0.679\n",
            "Fold:  6, Accuracy: 0.710\n",
            "Fold:  7, Accuracy: 0.761\n",
            "Fold:  8, Accuracy: 0.753\n",
            "Fold:  9, Accuracy: 0.679\n",
            "Fold: 10, Accuracy: 0.741\n",
            "\n",
            "\n",
            "Cross-Validation accuracy: 0.737 +/- 0.049\n"
          ]
        }
      ]
    },
    {
      "cell_type": "code",
      "metadata": {
        "id": "Vu6X2q1zjn4y"
      },
      "source": [
        "# Get the sample weights\n",
        "prop_clf_idhp = RandomForestClassifier()\n",
        "weights = get_ps_weights(prop_clf_idhp, x_ihdp_train, t_ihdp_train)\n",
        "\n",
        "# Train the regressor\n",
        "rf_ipsw_ihdp = RandomForestRegressor()\n",
        "\n",
        "rf_ipsw_ihdp.fit(xt_ihdp_train, yf_ihdp_train.flatten())\n",
        "\n",
        "xt0_ipsw_ihdp_test = np.concatenate([x_ihdp_test,np.zeros((150,1))],axis=1)\n",
        "xt1_ipsw_ihdp_test = np.concatenate([x_ihdp_test,np.ones((150,1))],axis=1)\n",
        "# Make predictions\n",
        "rf_ipsw_y0_test_ihdp = rf_ipsw_ihdp.predict(xt0_ipsw_ihdp_test)\n",
        "rf_ipsw_y1_test_ihdp = rf_ipsw_ihdp.predict(xt1_ipsw_ihdp_test)\n",
        "\n",
        "# Compute ITEs\n",
        "rf_ipsw_te_test_ihdp = rf_ipsw_y1_test_ihdp - rf_ipsw_y0_test_ihdp"
      ],
      "execution_count": null,
      "outputs": []
    },
    {
      "cell_type": "code",
      "metadata": {
        "id": "xSNlASdSj3jm",
        "colab": {
          "base_uri": "https://localhost:8080/"
        },
        "outputId": "b58a2b7b-6f33-4128-e3b5-a911905fd5f8"
      },
      "source": [
        "# X-Learner\n",
        "xl_ihdp = XLearner(models=RandomForestRegressor(), propensity_model=RandomForestClassifier())\n",
        "xl_ihdp.fit(yf_ihdp_train, t_ihdp_train.flatten(), X=x_ihdp_train)\n",
        "\n",
        "xl_ihdp_te_test_ihdp = xl_ihdp.effect(x_ihdp_test)"
      ],
      "execution_count": null,
      "outputs": [
        {
          "output_type": "stream",
          "name": "stderr",
          "text": [
            "Function get_feature_names is deprecated; get_feature_names is deprecated in 1.0 and will be removed in 1.2. Please use get_feature_names_out instead.\n"
          ]
        }
      ]
    },
    {
      "cell_type": "code",
      "source": [
        "bins=100\n",
        "fig, axs = plt.subplots(1, 4, figsize=(20, 4))\n",
        "axs[0].hist(rf_ipsw_y0_test_ihdp, bins=bins)\n",
        "axs[1].hist(rf_ipsw_y1_test_ihdp, bins=bins)\n",
        "axs[2].hist(rf_ipsw_te_test_ihdp, bins=bins)\n",
        "axs[3].hist(xl_ihdp_te_test_ihdp, bins=bins)\n",
        "plt.show()"
      ],
      "metadata": {
        "id": "fkN42hJgUz3g",
        "colab": {
          "base_uri": "https://localhost:8080/",
          "height": 237
        },
        "outputId": "c52a48ce-1913-469e-eaec-7b32e27c60fd"
      },
      "execution_count": null,
      "outputs": [
        {
          "output_type": "display_data",
          "data": {
            "text/plain": [
              "<Figure size 1440x288 with 4 Axes>"
            ],
            "image/png": "[encoded data removed]"
          },
          "metadata": {
            "needs_background": "light"
          }
        }
      ]
    },
    {
      "cell_type": "code",
      "source": [
        "#10-fold \n",
        "KFold2 = KFold(n_splits=10)\n",
        "pipeline2 = make_pipeline(StandardScaler(),RandomForestRegressor())\n",
        "kfold2 = KFold2.split(xt_ihdp, yf_ihdp.flatten())\n",
        "scores2 = []\n",
        "for k, (train, test) in enumerate(kfold2):\n",
        "    pipeline2.fit(xt_ihdp[train], yf_ihdp[train].flatten())\n",
        "    score2 = pipeline2.score(xt_ihdp[test], yf_ihdp[test].flatten())\n",
        "    scores2.append(score2)\n",
        "    print('Fold: %2d, Accuracy: %.3f' % (k+1, score2))\n",
        "print('\\n\\nCross-Validation accuracy: %.3f +/- %.3f' %(np.mean(scores2), np.std(scores2)))"
      ],
      "metadata": {
        "id": "mBWyLtt580iW",
        "colab": {
          "base_uri": "https://localhost:8080/"
        },
        "outputId": "797d5528-67c3-4874-df86-062b7d0e1722"
      },
      "execution_count": null,
      "outputs": [
        {
          "output_type": "stream",
          "name": "stdout",
          "text": [
            "Fold:  1, Accuracy: 0.806\n",
            "Fold:  2, Accuracy: 0.659\n",
            "Fold:  3, Accuracy: 0.782\n",
            "Fold:  4, Accuracy: 0.781\n",
            "Fold:  5, Accuracy: 0.660\n",
            "Fold:  6, Accuracy: 0.714\n",
            "Fold:  7, Accuracy: 0.756\n",
            "Fold:  8, Accuracy: 0.752\n",
            "Fold:  9, Accuracy: 0.667\n",
            "Fold: 10, Accuracy: 0.739\n",
            "\n",
            "\n",
            "Cross-Validation accuracy: 0.732 +/- 0.051\n"
          ]
        }
      ]
    },
    {
      "cell_type": "markdown",
      "source": [
        "CATE"
      ],
      "metadata": {
        "id": "oHlrOS5TbXBU"
      }
    },
    {
      "cell_type": "code",
      "source": [
        "from econml.dml import CausalForestDML\n",
        "est = CausalForestDML(model_y='auto',model_t='auto')\n",
        "est.fit(yf_ihdp_train.flatten(), t_ihdp_train, X=x_ihdp_train)\n",
        "print(est.ate(X=x_ihdp_test))\n",
        "print(est.score(yf_ihdp_test.flatten(), t_ihdp_test, X=x_ihdp_test))"
      ],
      "metadata": {
        "id": "_K7TILWXbV_M",
        "colab": {
          "base_uri": "https://localhost:8080/"
        },
        "outputId": "984bb78d-d795-4240-e058-c137f52179e8"
      },
      "execution_count": null,
      "outputs": [
        {
          "output_type": "stream",
          "name": "stderr",
          "text": [
            "'normalize' was deprecated in version 1.0 and will be removed in 1.2. Please leave the normalize parameter to its default value to silence this warning. The default behavior of this estimator is to not do any normalization. If normalization is needed please use sklearn.preprocessing.StandardScaler instead.\n",
            "'normalize' was deprecated in version 1.0 and will be removed in 1.2. Please leave the normalize parameter to its default value to silence this warning. The default behavior of this estimator is to not do any normalization. If normalization is needed please use sklearn.preprocessing.StandardScaler instead.\n",
            "'normalize' was deprecated in version 1.0 and will be removed in 1.2. Please leave the normalize parameter to its default value to silence this warning. The default behavior of this estimator is to not do any normalization. If normalization is needed please use sklearn.preprocessing.StandardScaler instead.\n",
            "'normalize' was deprecated in version 1.0 and will be removed in 1.2. Please leave the normalize parameter to its default value to silence this warning. The default behavior of this estimator is to not do any normalization. If normalization is needed please use sklearn.preprocessing.StandardScaler instead.\n"
          ]
        },
        {
          "output_type": "stream",
          "name": "stdout",
          "text": [
            "4.030357423253169\n",
            "1.3758080402905912\n"
          ]
        }
      ]
    },
    {
      "cell_type": "markdown",
      "source": [
        "Eveluation"
      ],
      "metadata": {
        "id": "7Kpgw0_RWxuA"
      }
    },
    {
      "cell_type": "code",
      "source": [
        "yf_flat = yf_ihdp_test.flatten()\n",
        "t_flat = t_ihdp_test.flatten()\n",
        "ite_flat = ite_ihdp_test.flatten()\n",
        "ate_ihdp_rf = abs_ate(rf_te_ihdp_test,ite_flat)\n",
        "ate_ihdp_ipsw = abs_ate(rf_ipsw_te_test_ihdp,ite_flat)\n",
        "pehe_ihdp_rf = pehe(rf_te_ihdp_test,ite_flat)\n",
        "pehe_ihdp_ipsw = pehe(rf_ipsw_te_test_ihdp,ite_flat)\n",
        "att_jobs_rf = abs_att(rf_ipsw_te_test,y_jobs_test.flatten(),t_jobs_test.flatten(),e_jobs_test.flatten())\n",
        "att_jobs_ipsw = abs_att(rf_te_jobs_test,y_jobs_test.flatten(),t_jobs_test.flatten(),e_jobs_test.flatten())\n",
        "pr_jobs_rf = policy_risk(rf_ipsw_te_test,y_jobs_test.flatten(),t_jobs_test.flatten(),e_jobs_test.flatten())\n",
        "pr_jobs_ipsw = policy_risk(rf_te_jobs_test,y_jobs_test.flatten(),t_jobs_test.flatten(),e_jobs_test.flatten())"
      ],
      "metadata": {
        "id": "BzPAFLbJW2-g"
      },
      "execution_count": null,
      "outputs": []
    },
    {
      "cell_type": "code",
      "source": [
        "print(ate_ihdp_rf)\n",
        "print(ate_ihdp_ipsw)\n",
        "print(pehe_ihdp_rf)\n",
        "print(pehe_ihdp_ipsw)"
      ],
      "metadata": {
        "colab": {
          "base_uri": "https://localhost:8080/"
        },
        "id": "fCVIX_CUks78",
        "outputId": "57f2ca01-9581-4865-e733-ab2a2be820fe"
      },
      "execution_count": null,
      "outputs": [
        {
          "output_type": "stream",
          "name": "stdout",
          "text": [
            "0.027251931976546295\n",
            "0.1172262557814534\n",
            "0.6062687620488627\n",
            "0.6518912550657657\n"
          ]
        }
      ]
    },
    {
      "cell_type": "code",
      "source": [
        "print(att_jobs_rf)\n",
        "print(att_jobs_ipsw)\n",
        "print(pr_jobs_rf)\n",
        "print(pr_jobs_ipsw)"
      ],
      "metadata": {
        "colab": {
          "base_uri": "https://localhost:8080/"
        },
        "id": "SJzwI8jvN-V0",
        "outputId": "b420f2e4-c57c-4254-ffdd-d5486eec646e"
      },
      "execution_count": null,
      "outputs": [
        {
          "output_type": "stream",
          "name": "stdout",
          "text": [
            "0.15589034525145642\n",
            "0.13543390919779813\n",
            "0.3233918128654971\n",
            "0.2706617808519982\n"
          ]
        }
      ]
    }
  ]
}